{
 "cells": [
  {
   "cell_type": "markdown",
   "metadata": {},
   "source": [
    "# Принятие решений в бизнесе"
   ]
  },
  {
   "cell_type": "markdown",
   "metadata": {},
   "source": [
    "Вместе с отделом маркетинга в крупном интернет-магазине были подготовлены гипотезы по увеличению выручки.\n",
    "\n",
    "**Цель**: проанализировать список гипотез для увеличения выручки.\n",
    "\n",
    "**Задачи**:\n",
    "+ приоритизировать гипотезы,\n",
    "+ запустить A/B-тест,\n",
    "+ проанализировать результаты\n",
    "\n",
    "**Описание данных:**\n",
    "\n",
    "Файл */datasets/hypothesis.csv*\n",
    "\n",
    "+ Hypothesis — краткое описание гипотезы;\n",
    "+ Reach — охват пользователей по 10-балльной шкале;\n",
    "+ Impact — влияние на пользователей по 10-балльной шкале;\n",
    "+ Confidence — уверенность в гипотезе по 10-балльной шкале;\n",
    "+ Efforts — затраты ресурсов на проверку гипотезы по 10-балльной шкале. Чем больше значение Efforts, тем дороже проверка гипотезы.\n",
    "\n",
    "Файл */datasets/orders.csv*\n",
    "\n",
    "+ transactionId — идентификатор заказа;\n",
    "+ visitorId — идентификатор пользователя, совершившего заказ;\n",
    "+ date — дата, когда был совершён заказ;\n",
    "+ revenue — выручка заказа;\n",
    "+ group — группа A/B-теста, в которую попал заказ.\n",
    "\n",
    "Файл */datasets/visitors.csv*\n",
    "\n",
    "+ date — дата;\n",
    "+ group — группа A/B-теста;\n",
    "+ visitors — количество пользователей в указанную дату в указанной группе A/B-теста"
   ]
  },
  {
   "cell_type": "markdown",
   "metadata": {},
   "source": [
    "___"
   ]
  },
  {
   "cell_type": "markdown",
   "metadata": {},
   "source": [
    "## Чтение файлов и предобработка данных"
   ]
  },
  {
   "cell_type": "markdown",
   "metadata": {},
   "source": [
    "На данном этапы мы выгрузим информацию о файлах в переменные и сделаем предобработку. Для этого необходимо выполнить несколько пунктов:\n",
    "\n",
    "+ с помощью методов head() и info() выяснить, нормально ли выгрузили данные и какого типа эти данные\n",
    "+ преобразовать тип данных при необходимости\n",
    "+ выявить наличие пропусков и дубликатов."
   ]
  },
  {
   "cell_type": "code",
   "execution_count": 1,
   "metadata": {},
   "outputs": [],
   "source": [
    "# импортируем библиотеки\n",
    "import numpy as np\n",
    "import pandas as pd\n",
    "import matplotlib.pyplot as plt\n",
    "from pandas.plotting import register_matplotlib_converters\n",
    "import warnings\n",
    "import scipy.stats as stats"
   ]
  },
  {
   "cell_type": "code",
   "execution_count": 2,
   "metadata": {},
   "outputs": [],
   "source": [
    "# записываем в переменные\n",
    "hypothesis = pd.read_csv('/datasets/hypothesis.csv')\n",
    "orders = pd.read_csv('/datasets/orders.csv')\n",
    "visitors = pd.read_csv('/datasets/visitors.csv')"
   ]
  },
  {
   "cell_type": "code",
   "execution_count": 3,
   "metadata": {},
   "outputs": [],
   "source": [
    "# приведём все названия колонок к змеиному регистру\n",
    "hypothesis.columns = hypothesis.columns.str.lower().str.replace(' ', '_')"
   ]
  },
  {
   "cell_type": "markdown",
   "metadata": {},
   "source": [
    "Теперь рассмотрим данные"
   ]
  },
  {
   "cell_type": "code",
   "execution_count": 4,
   "metadata": {
    "scrolled": true
   },
   "outputs": [
    {
     "data": {
      "text/html": [
       "<div>\n",
       "<style scoped>\n",
       "    .dataframe tbody tr th:only-of-type {\n",
       "        vertical-align: middle;\n",
       "    }\n",
       "\n",
       "    .dataframe tbody tr th {\n",
       "        vertical-align: top;\n",
       "    }\n",
       "\n",
       "    .dataframe thead th {\n",
       "        text-align: right;\n",
       "    }\n",
       "</style>\n",
       "<table border=\"1\" class=\"dataframe\">\n",
       "  <thead>\n",
       "    <tr style=\"text-align: right;\">\n",
       "      <th></th>\n",
       "      <th>hypothesis</th>\n",
       "      <th>reach</th>\n",
       "      <th>impact</th>\n",
       "      <th>confidence</th>\n",
       "      <th>efforts</th>\n",
       "    </tr>\n",
       "  </thead>\n",
       "  <tbody>\n",
       "    <tr>\n",
       "      <th>0</th>\n",
       "      <td>Добавить два новых канала привлечения трафика,...</td>\n",
       "      <td>3</td>\n",
       "      <td>10</td>\n",
       "      <td>8</td>\n",
       "      <td>6</td>\n",
       "    </tr>\n",
       "    <tr>\n",
       "      <th>1</th>\n",
       "      <td>Запустить собственную службу доставки, что сок...</td>\n",
       "      <td>2</td>\n",
       "      <td>5</td>\n",
       "      <td>4</td>\n",
       "      <td>10</td>\n",
       "    </tr>\n",
       "    <tr>\n",
       "      <th>2</th>\n",
       "      <td>Добавить блоки рекомендаций товаров на сайт ин...</td>\n",
       "      <td>8</td>\n",
       "      <td>3</td>\n",
       "      <td>7</td>\n",
       "      <td>3</td>\n",
       "    </tr>\n",
       "    <tr>\n",
       "      <th>3</th>\n",
       "      <td>Изменить структура категорий, что увеличит кон...</td>\n",
       "      <td>8</td>\n",
       "      <td>3</td>\n",
       "      <td>3</td>\n",
       "      <td>8</td>\n",
       "    </tr>\n",
       "    <tr>\n",
       "      <th>4</th>\n",
       "      <td>Изменить цвет фона главной страницы, чтобы уве...</td>\n",
       "      <td>3</td>\n",
       "      <td>1</td>\n",
       "      <td>1</td>\n",
       "      <td>1</td>\n",
       "    </tr>\n",
       "  </tbody>\n",
       "</table>\n",
       "</div>"
      ],
      "text/plain": [
       "                                          hypothesis  reach  impact  \\\n",
       "0  Добавить два новых канала привлечения трафика,...      3      10   \n",
       "1  Запустить собственную службу доставки, что сок...      2       5   \n",
       "2  Добавить блоки рекомендаций товаров на сайт ин...      8       3   \n",
       "3  Изменить структура категорий, что увеличит кон...      8       3   \n",
       "4  Изменить цвет фона главной страницы, чтобы уве...      3       1   \n",
       "\n",
       "   confidence  efforts  \n",
       "0           8        6  \n",
       "1           4       10  \n",
       "2           7        3  \n",
       "3           3        8  \n",
       "4           1        1  "
      ]
     },
     "execution_count": 4,
     "metadata": {},
     "output_type": "execute_result"
    }
   ],
   "source": [
    "# посмотрим первые строки каждого датафрейма\n",
    "hypothesis.head()"
   ]
  },
  {
   "cell_type": "code",
   "execution_count": 5,
   "metadata": {},
   "outputs": [
    {
     "data": {
      "text/html": [
       "<div>\n",
       "<style scoped>\n",
       "    .dataframe tbody tr th:only-of-type {\n",
       "        vertical-align: middle;\n",
       "    }\n",
       "\n",
       "    .dataframe tbody tr th {\n",
       "        vertical-align: top;\n",
       "    }\n",
       "\n",
       "    .dataframe thead th {\n",
       "        text-align: right;\n",
       "    }\n",
       "</style>\n",
       "<table border=\"1\" class=\"dataframe\">\n",
       "  <thead>\n",
       "    <tr style=\"text-align: right;\">\n",
       "      <th></th>\n",
       "      <th>transactionId</th>\n",
       "      <th>visitorId</th>\n",
       "      <th>date</th>\n",
       "      <th>revenue</th>\n",
       "      <th>group</th>\n",
       "    </tr>\n",
       "  </thead>\n",
       "  <tbody>\n",
       "    <tr>\n",
       "      <th>0</th>\n",
       "      <td>3667963787</td>\n",
       "      <td>3312258926</td>\n",
       "      <td>2019-08-15</td>\n",
       "      <td>1650</td>\n",
       "      <td>B</td>\n",
       "    </tr>\n",
       "    <tr>\n",
       "      <th>1</th>\n",
       "      <td>2804400009</td>\n",
       "      <td>3642806036</td>\n",
       "      <td>2019-08-15</td>\n",
       "      <td>730</td>\n",
       "      <td>B</td>\n",
       "    </tr>\n",
       "    <tr>\n",
       "      <th>2</th>\n",
       "      <td>2961555356</td>\n",
       "      <td>4069496402</td>\n",
       "      <td>2019-08-15</td>\n",
       "      <td>400</td>\n",
       "      <td>A</td>\n",
       "    </tr>\n",
       "    <tr>\n",
       "      <th>3</th>\n",
       "      <td>3797467345</td>\n",
       "      <td>1196621759</td>\n",
       "      <td>2019-08-15</td>\n",
       "      <td>9759</td>\n",
       "      <td>B</td>\n",
       "    </tr>\n",
       "    <tr>\n",
       "      <th>4</th>\n",
       "      <td>2282983706</td>\n",
       "      <td>2322279887</td>\n",
       "      <td>2019-08-15</td>\n",
       "      <td>2308</td>\n",
       "      <td>B</td>\n",
       "    </tr>\n",
       "  </tbody>\n",
       "</table>\n",
       "</div>"
      ],
      "text/plain": [
       "   transactionId   visitorId        date  revenue group\n",
       "0     3667963787  3312258926  2019-08-15     1650     B\n",
       "1     2804400009  3642806036  2019-08-15      730     B\n",
       "2     2961555356  4069496402  2019-08-15      400     A\n",
       "3     3797467345  1196621759  2019-08-15     9759     B\n",
       "4     2282983706  2322279887  2019-08-15     2308     B"
      ]
     },
     "execution_count": 5,
     "metadata": {},
     "output_type": "execute_result"
    }
   ],
   "source": [
    "# посмотрим первые строки каждого датафрейма\n",
    "orders.head()"
   ]
  },
  {
   "cell_type": "code",
   "execution_count": 6,
   "metadata": {},
   "outputs": [
    {
     "data": {
      "text/html": [
       "<div>\n",
       "<style scoped>\n",
       "    .dataframe tbody tr th:only-of-type {\n",
       "        vertical-align: middle;\n",
       "    }\n",
       "\n",
       "    .dataframe tbody tr th {\n",
       "        vertical-align: top;\n",
       "    }\n",
       "\n",
       "    .dataframe thead th {\n",
       "        text-align: right;\n",
       "    }\n",
       "</style>\n",
       "<table border=\"1\" class=\"dataframe\">\n",
       "  <thead>\n",
       "    <tr style=\"text-align: right;\">\n",
       "      <th></th>\n",
       "      <th>date</th>\n",
       "      <th>group</th>\n",
       "      <th>visitors</th>\n",
       "    </tr>\n",
       "  </thead>\n",
       "  <tbody>\n",
       "    <tr>\n",
       "      <th>0</th>\n",
       "      <td>2019-08-01</td>\n",
       "      <td>A</td>\n",
       "      <td>719</td>\n",
       "    </tr>\n",
       "    <tr>\n",
       "      <th>1</th>\n",
       "      <td>2019-08-02</td>\n",
       "      <td>A</td>\n",
       "      <td>619</td>\n",
       "    </tr>\n",
       "    <tr>\n",
       "      <th>2</th>\n",
       "      <td>2019-08-03</td>\n",
       "      <td>A</td>\n",
       "      <td>507</td>\n",
       "    </tr>\n",
       "    <tr>\n",
       "      <th>3</th>\n",
       "      <td>2019-08-04</td>\n",
       "      <td>A</td>\n",
       "      <td>717</td>\n",
       "    </tr>\n",
       "    <tr>\n",
       "      <th>4</th>\n",
       "      <td>2019-08-05</td>\n",
       "      <td>A</td>\n",
       "      <td>756</td>\n",
       "    </tr>\n",
       "  </tbody>\n",
       "</table>\n",
       "</div>"
      ],
      "text/plain": [
       "         date group  visitors\n",
       "0  2019-08-01     A       719\n",
       "1  2019-08-02     A       619\n",
       "2  2019-08-03     A       507\n",
       "3  2019-08-04     A       717\n",
       "4  2019-08-05     A       756"
      ]
     },
     "execution_count": 6,
     "metadata": {},
     "output_type": "execute_result"
    }
   ],
   "source": [
    "# посмотрим первые строки каждого датафрейма\n",
    "visitors.head()"
   ]
  },
  {
   "cell_type": "code",
   "execution_count": 7,
   "metadata": {},
   "outputs": [
    {
     "name": "stdout",
     "output_type": "stream",
     "text": [
      "Информация о гипотезах:\n",
      "<class 'pandas.core.frame.DataFrame'>\n",
      "RangeIndex: 9 entries, 0 to 8\n",
      "Data columns (total 5 columns):\n",
      " #   Column      Non-Null Count  Dtype \n",
      "---  ------      --------------  ----- \n",
      " 0   hypothesis  9 non-null      object\n",
      " 1   reach       9 non-null      int64 \n",
      " 2   impact      9 non-null      int64 \n",
      " 3   confidence  9 non-null      int64 \n",
      " 4   efforts     9 non-null      int64 \n",
      "dtypes: int64(4), object(1)\n",
      "memory usage: 488.0+ bytes\n",
      "\n",
      "Информация о заказах:\n",
      "<class 'pandas.core.frame.DataFrame'>\n",
      "RangeIndex: 1197 entries, 0 to 1196\n",
      "Data columns (total 5 columns):\n",
      " #   Column         Non-Null Count  Dtype \n",
      "---  ------         --------------  ----- \n",
      " 0   transactionId  1197 non-null   int64 \n",
      " 1   visitorId      1197 non-null   int64 \n",
      " 2   date           1197 non-null   object\n",
      " 3   revenue        1197 non-null   int64 \n",
      " 4   group          1197 non-null   object\n",
      "dtypes: int64(3), object(2)\n",
      "memory usage: 46.9+ KB\n",
      "\n",
      "Информация о посетителях:\n",
      "<class 'pandas.core.frame.DataFrame'>\n",
      "RangeIndex: 62 entries, 0 to 61\n",
      "Data columns (total 3 columns):\n",
      " #   Column    Non-Null Count  Dtype \n",
      "---  ------    --------------  ----- \n",
      " 0   date      62 non-null     object\n",
      " 1   group     62 non-null     object\n",
      " 2   visitors  62 non-null     int64 \n",
      "dtypes: int64(1), object(2)\n",
      "memory usage: 1.6+ KB\n"
     ]
    }
   ],
   "source": [
    "# вызовем метод info()\n",
    "\n",
    "print('Информация о гипотезах:')\n",
    "hypothesis.info()\n",
    "print('')\n",
    "print('Информация о заказах:')\n",
    "orders.info()\n",
    "print('')\n",
    "print('Информация о посетителях:')\n",
    "visitors.info()"
   ]
  },
  {
   "cell_type": "markdown",
   "metadata": {},
   "source": [
    "По количеству данных можно понять, что пропусков нет. Стоит преобразовать столбцы date к нужному типу."
   ]
  },
  {
   "cell_type": "code",
   "execution_count": 8,
   "metadata": {},
   "outputs": [],
   "source": [
    "# преобразуем типы данных в datetime64\n",
    "orders['date'] = pd.to_datetime(orders['date'])\n",
    "visitors['date'] = pd.to_datetime(visitors['date'])"
   ]
  },
  {
   "cell_type": "code",
   "execution_count": 9,
   "metadata": {},
   "outputs": [
    {
     "name": "stdout",
     "output_type": "stream",
     "text": [
      "Количество дубликатов в гипотезах:\n",
      "0\n",
      "Количество дубликатов в заказах:\n",
      "0\n",
      "Количество дубликатов в посетителях:\n",
      "0\n"
     ]
    }
   ],
   "source": [
    "# выявим явные дубликаты\n",
    "\n",
    "print('Количество дубликатов в гипотезах:')\n",
    "print(hypothesis.duplicated().sum())\n",
    "print('Количество дубликатов в заказах:')\n",
    "print(orders.duplicated().sum())\n",
    "print('Количество дубликатов в посетителях:')\n",
    "print(visitors.duplicated().sum())"
   ]
  },
  {
   "cell_type": "markdown",
   "metadata": {},
   "source": [
    "<div style=\"border:solid green 2px; padding: 20px\">\n",
    "    \n",
    "        Итак, мы преобразовали необходимые форматы данных и убедились, что в данных нет пропусков и дубликатов.\n",
    "    \n",
    "</div>"
   ]
  },
  {
   "cell_type": "markdown",
   "metadata": {},
   "source": [
    "____"
   ]
  },
  {
   "cell_type": "markdown",
   "metadata": {},
   "source": [
    "## Приоритизация гипотез"
   ]
  },
  {
   "cell_type": "markdown",
   "metadata": {},
   "source": [
    "Задачи данного раздела:\n",
    "\n",
    "+ Применить фреймворк ICE для приоритизации гипотез. Отсортировать их по убыванию приоритета.\n",
    "+ Применить фреймворк RICE для приоритизации гипотез. Отсортировать их по убыванию приоритета.\n",
    "+ Укажать, как изменилась приоритизация гипотез при применении RICE вместо ICE. Объяснить, почему так произошло."
   ]
  },
  {
   "cell_type": "code",
   "execution_count": 12,
   "metadata": {
    "scrolled": false
   },
   "outputs": [
    {
     "data": {
      "text/html": [
       "<div>\n",
       "<style scoped>\n",
       "    .dataframe tbody tr th:only-of-type {\n",
       "        vertical-align: middle;\n",
       "    }\n",
       "\n",
       "    .dataframe tbody tr th {\n",
       "        vertical-align: top;\n",
       "    }\n",
       "\n",
       "    .dataframe thead th {\n",
       "        text-align: right;\n",
       "    }\n",
       "</style>\n",
       "<table border=\"1\" class=\"dataframe\">\n",
       "  <thead>\n",
       "    <tr style=\"text-align: right;\">\n",
       "      <th></th>\n",
       "      <th>hypothesis</th>\n",
       "      <th>reach</th>\n",
       "      <th>impact</th>\n",
       "      <th>confidence</th>\n",
       "      <th>efforts</th>\n",
       "    </tr>\n",
       "  </thead>\n",
       "  <tbody>\n",
       "    <tr>\n",
       "      <th>0</th>\n",
       "      <td>Добавить два новых канала привлечения трафика, что позволит привлекать на 30% больше пользователей</td>\n",
       "      <td>3</td>\n",
       "      <td>10</td>\n",
       "      <td>8</td>\n",
       "      <td>6</td>\n",
       "    </tr>\n",
       "    <tr>\n",
       "      <th>1</th>\n",
       "      <td>Запустить собственную службу доставки, что сократит срок доставки заказов</td>\n",
       "      <td>2</td>\n",
       "      <td>5</td>\n",
       "      <td>4</td>\n",
       "      <td>10</td>\n",
       "    </tr>\n",
       "    <tr>\n",
       "      <th>2</th>\n",
       "      <td>Добавить блоки рекомендаций товаров на сайт интернет магазина, чтобы повысить конверсию и средний чек заказа</td>\n",
       "      <td>8</td>\n",
       "      <td>3</td>\n",
       "      <td>7</td>\n",
       "      <td>3</td>\n",
       "    </tr>\n",
       "    <tr>\n",
       "      <th>3</th>\n",
       "      <td>Изменить структура категорий, что увеличит конверсию, т.к. пользователи быстрее найдут нужный товар</td>\n",
       "      <td>8</td>\n",
       "      <td>3</td>\n",
       "      <td>3</td>\n",
       "      <td>8</td>\n",
       "    </tr>\n",
       "    <tr>\n",
       "      <th>4</th>\n",
       "      <td>Изменить цвет фона главной страницы, чтобы увеличить вовлеченность пользователей</td>\n",
       "      <td>3</td>\n",
       "      <td>1</td>\n",
       "      <td>1</td>\n",
       "      <td>1</td>\n",
       "    </tr>\n",
       "    <tr>\n",
       "      <th>5</th>\n",
       "      <td>Добавить страницу отзывов клиентов о магазине, что позволит увеличить количество заказов</td>\n",
       "      <td>3</td>\n",
       "      <td>2</td>\n",
       "      <td>2</td>\n",
       "      <td>3</td>\n",
       "    </tr>\n",
       "    <tr>\n",
       "      <th>6</th>\n",
       "      <td>Показать на главной странице баннеры с актуальными акциями и распродажами, чтобы увеличить конверсию</td>\n",
       "      <td>5</td>\n",
       "      <td>3</td>\n",
       "      <td>8</td>\n",
       "      <td>3</td>\n",
       "    </tr>\n",
       "    <tr>\n",
       "      <th>7</th>\n",
       "      <td>Добавить форму подписки на все основные страницы, чтобы собрать базу клиентов для email-рассылок</td>\n",
       "      <td>10</td>\n",
       "      <td>7</td>\n",
       "      <td>8</td>\n",
       "      <td>5</td>\n",
       "    </tr>\n",
       "    <tr>\n",
       "      <th>8</th>\n",
       "      <td>Запустить акцию, дающую скидку на товар в день рождения</td>\n",
       "      <td>1</td>\n",
       "      <td>9</td>\n",
       "      <td>9</td>\n",
       "      <td>5</td>\n",
       "    </tr>\n",
       "  </tbody>\n",
       "</table>\n",
       "</div>"
      ],
      "text/plain": [
       "                                                                                                     hypothesis  \\\n",
       "0            Добавить два новых канала привлечения трафика, что позволит привлекать на 30% больше пользователей   \n",
       "1                                     Запустить собственную службу доставки, что сократит срок доставки заказов   \n",
       "2  Добавить блоки рекомендаций товаров на сайт интернет магазина, чтобы повысить конверсию и средний чек заказа   \n",
       "3           Изменить структура категорий, что увеличит конверсию, т.к. пользователи быстрее найдут нужный товар   \n",
       "4                              Изменить цвет фона главной страницы, чтобы увеличить вовлеченность пользователей   \n",
       "5                      Добавить страницу отзывов клиентов о магазине, что позволит увеличить количество заказов   \n",
       "6          Показать на главной странице баннеры с актуальными акциями и распродажами, чтобы увеличить конверсию   \n",
       "7              Добавить форму подписки на все основные страницы, чтобы собрать базу клиентов для email-рассылок   \n",
       "8                                                       Запустить акцию, дающую скидку на товар в день рождения   \n",
       "\n",
       "   reach  impact  confidence  efforts  \n",
       "0      3      10           8        6  \n",
       "1      2       5           4       10  \n",
       "2      8       3           7        3  \n",
       "3      8       3           3        8  \n",
       "4      3       1           1        1  \n",
       "5      3       2           2        3  \n",
       "6      5       3           8        3  \n",
       "7     10       7           8        5  \n",
       "8      1       9           9        5  "
      ]
     },
     "execution_count": 12,
     "metadata": {},
     "output_type": "execute_result"
    }
   ],
   "source": [
    "# используем параметр max_colwidth для того, чтобы отобразить гипотезы полностью\n",
    "pd.options.display.max_colwidth = 120\n",
    "hypothesis"
   ]
  },
  {
   "cell_type": "code",
   "execution_count": 13,
   "metadata": {},
   "outputs": [],
   "source": [
    "# Применим фреймворк ICE и RICE\n",
    "hypothesis['ICE'] = ((hypothesis['impact'] * hypothesis['confidence']) / hypothesis['efforts'])\n",
    "hypothesis['RICE'] = (hypothesis['reach'] * hypothesis['impact'] * hypothesis['confidence']) / hypothesis['efforts']"
   ]
  },
  {
   "cell_type": "markdown",
   "metadata": {},
   "source": [
    "Выведем номера гипотез, сами гипотезы, затем значения ICE и RICE"
   ]
  },
  {
   "cell_type": "code",
   "execution_count": 14,
   "metadata": {
    "scrolled": true
   },
   "outputs": [
    {
     "data": {
      "text/html": [
       "<div>\n",
       "<style scoped>\n",
       "    .dataframe tbody tr th:only-of-type {\n",
       "        vertical-align: middle;\n",
       "    }\n",
       "\n",
       "    .dataframe tbody tr th {\n",
       "        vertical-align: top;\n",
       "    }\n",
       "\n",
       "    .dataframe thead th {\n",
       "        text-align: right;\n",
       "    }\n",
       "</style>\n",
       "<table border=\"1\" class=\"dataframe\">\n",
       "  <thead>\n",
       "    <tr style=\"text-align: right;\">\n",
       "      <th></th>\n",
       "      <th>hypothesis</th>\n",
       "      <th>ICE</th>\n",
       "    </tr>\n",
       "  </thead>\n",
       "  <tbody>\n",
       "    <tr>\n",
       "      <th>8</th>\n",
       "      <td>Запустить акцию, дающую скидку на товар в день рождения</td>\n",
       "      <td>16.200000</td>\n",
       "    </tr>\n",
       "    <tr>\n",
       "      <th>0</th>\n",
       "      <td>Добавить два новых канала привлечения трафика, что позволит привлекать на 30% больше пользователей</td>\n",
       "      <td>13.333333</td>\n",
       "    </tr>\n",
       "    <tr>\n",
       "      <th>7</th>\n",
       "      <td>Добавить форму подписки на все основные страницы, чтобы собрать базу клиентов для email-рассылок</td>\n",
       "      <td>11.200000</td>\n",
       "    </tr>\n",
       "    <tr>\n",
       "      <th>6</th>\n",
       "      <td>Показать на главной странице баннеры с актуальными акциями и распродажами, чтобы увеличить конверсию</td>\n",
       "      <td>8.000000</td>\n",
       "    </tr>\n",
       "    <tr>\n",
       "      <th>2</th>\n",
       "      <td>Добавить блоки рекомендаций товаров на сайт интернет магазина, чтобы повысить конверсию и средний чек заказа</td>\n",
       "      <td>7.000000</td>\n",
       "    </tr>\n",
       "    <tr>\n",
       "      <th>1</th>\n",
       "      <td>Запустить собственную службу доставки, что сократит срок доставки заказов</td>\n",
       "      <td>2.000000</td>\n",
       "    </tr>\n",
       "    <tr>\n",
       "      <th>5</th>\n",
       "      <td>Добавить страницу отзывов клиентов о магазине, что позволит увеличить количество заказов</td>\n",
       "      <td>1.333333</td>\n",
       "    </tr>\n",
       "    <tr>\n",
       "      <th>3</th>\n",
       "      <td>Изменить структура категорий, что увеличит конверсию, т.к. пользователи быстрее найдут нужный товар</td>\n",
       "      <td>1.125000</td>\n",
       "    </tr>\n",
       "    <tr>\n",
       "      <th>4</th>\n",
       "      <td>Изменить цвет фона главной страницы, чтобы увеличить вовлеченность пользователей</td>\n",
       "      <td>1.000000</td>\n",
       "    </tr>\n",
       "  </tbody>\n",
       "</table>\n",
       "</div>"
      ],
      "text/plain": [
       "                                                                                                     hypothesis  \\\n",
       "8                                                       Запустить акцию, дающую скидку на товар в день рождения   \n",
       "0            Добавить два новых канала привлечения трафика, что позволит привлекать на 30% больше пользователей   \n",
       "7              Добавить форму подписки на все основные страницы, чтобы собрать базу клиентов для email-рассылок   \n",
       "6          Показать на главной странице баннеры с актуальными акциями и распродажами, чтобы увеличить конверсию   \n",
       "2  Добавить блоки рекомендаций товаров на сайт интернет магазина, чтобы повысить конверсию и средний чек заказа   \n",
       "1                                     Запустить собственную службу доставки, что сократит срок доставки заказов   \n",
       "5                      Добавить страницу отзывов клиентов о магазине, что позволит увеличить количество заказов   \n",
       "3           Изменить структура категорий, что увеличит конверсию, т.к. пользователи быстрее найдут нужный товар   \n",
       "4                              Изменить цвет фона главной страницы, чтобы увеличить вовлеченность пользователей   \n",
       "\n",
       "         ICE  \n",
       "8  16.200000  \n",
       "0  13.333333  \n",
       "7  11.200000  \n",
       "6   8.000000  \n",
       "2   7.000000  \n",
       "1   2.000000  \n",
       "5   1.333333  \n",
       "3   1.125000  \n",
       "4   1.000000  "
      ]
     },
     "execution_count": 14,
     "metadata": {},
     "output_type": "execute_result"
    }
   ],
   "source": [
    "hypothesis[['hypothesis', 'ICE']].sort_values(by='ICE', ascending=False)"
   ]
  },
  {
   "cell_type": "code",
   "execution_count": 15,
   "metadata": {
    "scrolled": false
   },
   "outputs": [
    {
     "data": {
      "text/html": [
       "<div>\n",
       "<style scoped>\n",
       "    .dataframe tbody tr th:only-of-type {\n",
       "        vertical-align: middle;\n",
       "    }\n",
       "\n",
       "    .dataframe tbody tr th {\n",
       "        vertical-align: top;\n",
       "    }\n",
       "\n",
       "    .dataframe thead th {\n",
       "        text-align: right;\n",
       "    }\n",
       "</style>\n",
       "<table border=\"1\" class=\"dataframe\">\n",
       "  <thead>\n",
       "    <tr style=\"text-align: right;\">\n",
       "      <th></th>\n",
       "      <th>hypothesis</th>\n",
       "      <th>RICE</th>\n",
       "    </tr>\n",
       "  </thead>\n",
       "  <tbody>\n",
       "    <tr>\n",
       "      <th>7</th>\n",
       "      <td>Добавить форму подписки на все основные страницы, чтобы собрать базу клиентов для email-рассылок</td>\n",
       "      <td>112.0</td>\n",
       "    </tr>\n",
       "    <tr>\n",
       "      <th>2</th>\n",
       "      <td>Добавить блоки рекомендаций товаров на сайт интернет магазина, чтобы повысить конверсию и средний чек заказа</td>\n",
       "      <td>56.0</td>\n",
       "    </tr>\n",
       "    <tr>\n",
       "      <th>0</th>\n",
       "      <td>Добавить два новых канала привлечения трафика, что позволит привлекать на 30% больше пользователей</td>\n",
       "      <td>40.0</td>\n",
       "    </tr>\n",
       "    <tr>\n",
       "      <th>6</th>\n",
       "      <td>Показать на главной странице баннеры с актуальными акциями и распродажами, чтобы увеличить конверсию</td>\n",
       "      <td>40.0</td>\n",
       "    </tr>\n",
       "    <tr>\n",
       "      <th>8</th>\n",
       "      <td>Запустить акцию, дающую скидку на товар в день рождения</td>\n",
       "      <td>16.2</td>\n",
       "    </tr>\n",
       "    <tr>\n",
       "      <th>3</th>\n",
       "      <td>Изменить структура категорий, что увеличит конверсию, т.к. пользователи быстрее найдут нужный товар</td>\n",
       "      <td>9.0</td>\n",
       "    </tr>\n",
       "    <tr>\n",
       "      <th>1</th>\n",
       "      <td>Запустить собственную службу доставки, что сократит срок доставки заказов</td>\n",
       "      <td>4.0</td>\n",
       "    </tr>\n",
       "    <tr>\n",
       "      <th>5</th>\n",
       "      <td>Добавить страницу отзывов клиентов о магазине, что позволит увеличить количество заказов</td>\n",
       "      <td>4.0</td>\n",
       "    </tr>\n",
       "    <tr>\n",
       "      <th>4</th>\n",
       "      <td>Изменить цвет фона главной страницы, чтобы увеличить вовлеченность пользователей</td>\n",
       "      <td>3.0</td>\n",
       "    </tr>\n",
       "  </tbody>\n",
       "</table>\n",
       "</div>"
      ],
      "text/plain": [
       "                                                                                                     hypothesis  \\\n",
       "7              Добавить форму подписки на все основные страницы, чтобы собрать базу клиентов для email-рассылок   \n",
       "2  Добавить блоки рекомендаций товаров на сайт интернет магазина, чтобы повысить конверсию и средний чек заказа   \n",
       "0            Добавить два новых канала привлечения трафика, что позволит привлекать на 30% больше пользователей   \n",
       "6          Показать на главной странице баннеры с актуальными акциями и распродажами, чтобы увеличить конверсию   \n",
       "8                                                       Запустить акцию, дающую скидку на товар в день рождения   \n",
       "3           Изменить структура категорий, что увеличит конверсию, т.к. пользователи быстрее найдут нужный товар   \n",
       "1                                     Запустить собственную службу доставки, что сократит срок доставки заказов   \n",
       "5                      Добавить страницу отзывов клиентов о магазине, что позволит увеличить количество заказов   \n",
       "4                              Изменить цвет фона главной страницы, чтобы увеличить вовлеченность пользователей   \n",
       "\n",
       "    RICE  \n",
       "7  112.0  \n",
       "2   56.0  \n",
       "0   40.0  \n",
       "6   40.0  \n",
       "8   16.2  \n",
       "3    9.0  \n",
       "1    4.0  \n",
       "5    4.0  \n",
       "4    3.0  "
      ]
     },
     "execution_count": 15,
     "metadata": {},
     "output_type": "execute_result"
    }
   ],
   "source": [
    "hypothesis[['hypothesis', 'RICE']].sort_values(by='RICE', ascending=False)"
   ]
  },
  {
   "cell_type": "markdown",
   "metadata": {},
   "source": [
    "<div style=\"border:solid green 2px; padding: 20px\">\n",
    "\n",
    "    Количество затронутых пользователей сильно влияет на результат. \n",
    "    Для 7-й гипотезы reach=10, поэтому она выбилась на 1 место в таблице RICE, а вот \n",
    "    по параметры ICE она занимала 3-е место. \n",
    "    \n",
    "    Также можно заметить большой разброс значения RICE, это связано с тем, что reach\n",
    "    в основном либо высокий (10,8) либо низкий(3,2,1). \n",
    "    \n",
    "    Кроме того, в топ-3 осталась только гипотеза 7. Можно для дальнейшего \n",
    "    тестирования предложить её.\n",
    "    \n",
    "</div>"
   ]
  },
  {
   "cell_type": "markdown",
   "metadata": {},
   "source": [
    "____"
   ]
  },
  {
   "cell_type": "markdown",
   "metadata": {},
   "source": [
    "## Анализ A/B-теста"
   ]
  },
  {
   "cell_type": "markdown",
   "metadata": {},
   "source": [
    "Главной задачей данного раздела будет проанализировать A/B-тест. \n"
   ]
  },
  {
   "cell_type": "markdown",
   "metadata": {},
   "source": [
    "До начала анализа теста изучим имеющиеся данные, а именно:\n",
    "- сколько у нас групп в АВ-тесте;\n",
    "- даты начала и окончания теста;\n",
    "- сколько пользователей в каждой группе - по таблице с заказами;\n",
    "- не попадают ли какие-то пользователи в обе группы - по таблице с заказами."
   ]
  },
  {
   "cell_type": "code",
   "execution_count": 16,
   "metadata": {
    "scrolled": true
   },
   "outputs": [
    {
     "name": "stdout",
     "output_type": "stream",
     "text": [
      "В тесте участвуют группы: ['B' 'A']\n"
     ]
    }
   ],
   "source": [
    "print('В тесте участвуют группы:',orders['group'].unique())"
   ]
  },
  {
   "cell_type": "code",
   "execution_count": 17,
   "metadata": {
    "scrolled": true
   },
   "outputs": [
    {
     "name": "stdout",
     "output_type": "stream",
     "text": [
      "Тест проводится в промежутке от 2019-08-01 до 2019-08-31\n"
     ]
    }
   ],
   "source": [
    "print('Тест проводится в промежутке от', orders['date'].min().date(), 'до', orders['date'].max().date())"
   ]
  },
  {
   "cell_type": "markdown",
   "metadata": {},
   "source": [
    "Теперь почитаем количество пользователей в разных группах и общее количество пользователей по группам. Сравним эти суммы."
   ]
  },
  {
   "cell_type": "code",
   "execution_count": 18,
   "metadata": {
    "scrolled": false
   },
   "outputs": [
    {
     "data": {
      "text/plain": [
       "group\n",
       "A    557\n",
       "B    640\n",
       "Name: visitorId, dtype: int64"
      ]
     },
     "execution_count": 18,
     "metadata": {},
     "output_type": "execute_result"
    }
   ],
   "source": [
    "orders.groupby('group')['visitorId'].count()"
   ]
  },
  {
   "cell_type": "code",
   "execution_count": 20,
   "metadata": {},
   "outputs": [
    {
     "data": {
      "text/plain": [
       "58"
      ]
     },
     "execution_count": 20,
     "metadata": {},
     "output_type": "execute_result"
    }
   ],
   "source": [
    "orders.groupby('visitorId').agg({'group' : 'nunique'}).reset_index().query('group>1')['visitorId'].count()"
   ]
  },
  {
   "cell_type": "markdown",
   "metadata": {},
   "source": [
    "**Итак, у нас 58 повторяющихся пользователей. Но их трогать не обязательно.**"
   ]
  },
  {
   "cell_type": "markdown",
   "metadata": {},
   "source": [
    "### График кумулятивной выручки по группам"
   ]
  },
  {
   "cell_type": "markdown",
   "metadata": {},
   "source": [
    "Создадим датафрейм cumulativeData, который будет содержать дату, группу, заказы, покупки, доход и посетителей."
   ]
  },
  {
   "cell_type": "code",
   "execution_count": 21,
   "metadata": {},
   "outputs": [
    {
     "name": "stdout",
     "output_type": "stream",
     "text": [
      "        date group  orders  buyers  revenue  visitors\n",
      "0 2019-08-01     A      24      20   148579       719\n",
      "1 2019-08-01     B      21      20   101217       713\n",
      "2 2019-08-02     A      44      38   242401      1338\n",
      "3 2019-08-02     B      45      43   266748      1294\n",
      "4 2019-08-03     A      68      62   354874      1845\n"
     ]
    }
   ],
   "source": [
    "# создаем массив уникальных пар значений дат и групп теста\n",
    "datesGroups = orders[['date','group']].drop_duplicates() \n",
    "\n",
    "# получаем агрегированные кумулятивные по дням данные о заказах \n",
    "ordersAggregated = datesGroups.apply(lambda x: orders[np.logical_and(orders['date'] <= x['date'], orders['group'] == x['group'])]\\\n",
    ".agg({'date' : 'max', 'group' : 'max', 'transactionId' : 'nunique', 'visitorId' : 'nunique', 'revenue' : 'sum'}), axis=1).sort_values(by=['date','group'])\n",
    "\n",
    "# получаем агрегированные кумулятивные по дням данные о посетителях интернет-магазина \n",
    "visitorsAggregated = datesGroups.apply(lambda x: visitors[np.logical_and(visitors['date'] <= x['date'], visitors['group'] == x['group'])].agg({'date' : 'max', 'group' : 'max', 'visitors' : 'sum'}), axis=1).sort_values(by=['date','group'])\n",
    "\n",
    "# объединяем кумулятивные данные в одной таблице и присваиваем ее столбцам понятные названия\n",
    "cumulativeData = ordersAggregated.merge(visitorsAggregated, left_on=['date', 'group'], right_on=['date', 'group'])\n",
    "cumulativeData.columns = ['date', 'group', 'orders', 'buyers', 'revenue', 'visitors']\n",
    "\n",
    "print(cumulativeData.head(5))"
   ]
  },
  {
   "cell_type": "markdown",
   "metadata": {},
   "source": [
    "Теперь построим график кумулятивной выручки по группам"
   ]
  },
  {
   "cell_type": "code",
   "execution_count": 22,
   "metadata": {},
   "outputs": [
    {
     "data": {
      "image/png": "[encoded data removed]",
      "text/plain": [
       "<Figure size 1008x432 with 1 Axes>"
      ]
     },
     "metadata": {
      "needs_background": "light"
     },
     "output_type": "display_data"
    }
   ],
   "source": [
    "# датафрейм с кумулятивным количеством заказов и кумулятивной выручкой по дням в группе А\n",
    "cumulativeRevenueA = cumulativeData[cumulativeData['group']=='A'][['date','revenue', 'orders']]\n",
    "\n",
    "# датафрейм с кумулятивным количеством заказов и кумулятивной выручкой по дням в группе B\n",
    "cumulativeRevenueB = cumulativeData[cumulativeData['group']=='B'][['date','revenue', 'orders']]\n",
    "\n",
    "# создадим \"обложку\" графика\n",
    "plt.figure(figsize=(14,6))\n",
    "plt.grid()\n",
    "plt.title('Расчёт кумулятивной выручки по группам')\n",
    "plt.xlabel('Дата')\n",
    "plt.ylabel('Кумулятивная выручка')\n",
    "\n",
    "# Строим график выручки группы А\n",
    "plt.plot(cumulativeRevenueA['date'], cumulativeRevenueA['revenue'], label='A')\n",
    "\n",
    "# Строим график выручки группы B\n",
    "plt.plot(cumulativeRevenueB['date'], cumulativeRevenueB['revenue'], label='B')\n",
    "\n",
    "plt.legend()\n",
    "plt.show()\n"
   ]
  },
  {
   "cell_type": "markdown",
   "metadata": {},
   "source": [
    "**До 13-го числа выручка росла примерно одинаково и небольшим отрывом группы В, однако примерно 19-20 числа, вероятнее всего, произошла большая покупка, которая позволила группе В значильно \"оторваться\" по продажам**"
   ]
  },
  {
   "cell_type": "markdown",
   "metadata": {},
   "source": [
    "Так как заказ поднял график больше чем на единицу, стоит понять какой это заказ, чтобы в дальнейшем отслеживать его влияние на ход эксперимента.\n",
    "\n",
    "Для начала стоит узнать точную дату заказа.\n",
    "\n",
    "Выведем первые 5 строк, чтобы убедиться, что большой заказ был один."
   ]
  },
  {
   "cell_type": "code",
   "execution_count": 23,
   "metadata": {},
   "outputs": [
    {
     "data": {
      "text/html": [
       "<div>\n",
       "<style scoped>\n",
       "    .dataframe tbody tr th:only-of-type {\n",
       "        vertical-align: middle;\n",
       "    }\n",
       "\n",
       "    .dataframe tbody tr th {\n",
       "        vertical-align: top;\n",
       "    }\n",
       "\n",
       "    .dataframe thead th {\n",
       "        text-align: right;\n",
       "    }\n",
       "</style>\n",
       "<table border=\"1\" class=\"dataframe\">\n",
       "  <thead>\n",
       "    <tr style=\"text-align: right;\">\n",
       "      <th></th>\n",
       "      <th>transactionId</th>\n",
       "      <th>visitorId</th>\n",
       "      <th>date</th>\n",
       "      <th>revenue</th>\n",
       "      <th>group</th>\n",
       "    </tr>\n",
       "  </thead>\n",
       "  <tbody>\n",
       "    <tr>\n",
       "      <th>425</th>\n",
       "      <td>590470918</td>\n",
       "      <td>1920142716</td>\n",
       "      <td>2019-08-19</td>\n",
       "      <td>1294500</td>\n",
       "      <td>B</td>\n",
       "    </tr>\n",
       "    <tr>\n",
       "      <th>751</th>\n",
       "      <td>348143148</td>\n",
       "      <td>689129267</td>\n",
       "      <td>2019-08-20</td>\n",
       "      <td>37150</td>\n",
       "      <td>B</td>\n",
       "    </tr>\n",
       "    <tr>\n",
       "      <th>527</th>\n",
       "      <td>1570513684</td>\n",
       "      <td>2837914161</td>\n",
       "      <td>2019-08-19</td>\n",
       "      <td>33405</td>\n",
       "      <td>B</td>\n",
       "    </tr>\n",
       "    <tr>\n",
       "      <th>461</th>\n",
       "      <td>2683113224</td>\n",
       "      <td>154576532</td>\n",
       "      <td>2019-08-19</td>\n",
       "      <td>26550</td>\n",
       "      <td>B</td>\n",
       "    </tr>\n",
       "    <tr>\n",
       "      <th>630</th>\n",
       "      <td>1329556473</td>\n",
       "      <td>2626290177</td>\n",
       "      <td>2019-08-20</td>\n",
       "      <td>25890</td>\n",
       "      <td>B</td>\n",
       "    </tr>\n",
       "  </tbody>\n",
       "</table>\n",
       "</div>"
      ],
      "text/plain": [
       "     transactionId   visitorId       date  revenue group\n",
       "425      590470918  1920142716 2019-08-19  1294500     B\n",
       "751      348143148   689129267 2019-08-20    37150     B\n",
       "527     1570513684  2837914161 2019-08-19    33405     B\n",
       "461     2683113224   154576532 2019-08-19    26550     B\n",
       "630     1329556473  2626290177 2019-08-20    25890     B"
      ]
     },
     "execution_count": 23,
     "metadata": {},
     "output_type": "execute_result"
    }
   ],
   "source": [
    "orders[('2019-08-17' < orders['date']) & (orders['date'] < '2019-08-21') & (orders['group'] == 'B')].sort_values(by='revenue', ascending=False)[:5]"
   ]
  },
  {
   "cell_type": "markdown",
   "metadata": {},
   "source": [
    "**Заказ 425 значительно влияет на кривую кумулятивной выручки группы В. Стоит в дальнейшем следить за влиянием данного заказа на другие показатели.**"
   ]
  },
  {
   "cell_type": "markdown",
   "metadata": {},
   "source": [
    "###  График кумулятивного среднего чека по группам"
   ]
  },
  {
   "cell_type": "markdown",
   "metadata": {},
   "source": [
    "Чтобы построить данный график необходимо разделить выручку на количество заказов."
   ]
  },
  {
   "cell_type": "code",
   "execution_count": 24,
   "metadata": {},
   "outputs": [
    {
     "data": {
      "image/png": "[encoded data removed]",
      "text/plain": [
       "<Figure size 1008x432 with 1 Axes>"
      ]
     },
     "metadata": {
      "needs_background": "light"
     },
     "output_type": "display_data"
    }
   ],
   "source": [
    "# создадим \"обложку\" графика\n",
    "plt.figure(figsize=(14,6))\n",
    "plt.grid()\n",
    "plt.title('Расчёт кумулятивного среднего чека по группам')\n",
    "plt.xlabel('Дата')\n",
    "plt.ylabel('Кумулятивный средний чек')\n",
    "\n",
    "# построим графики кумулятивного среднего чека по дням\n",
    "plt.plot(cumulativeRevenueA['date'], cumulativeRevenueA['revenue']/cumulativeRevenueA['orders'], label='A')\n",
    "plt.plot(cumulativeRevenueB['date'], cumulativeRevenueB['revenue']/cumulativeRevenueB['orders'], label='B')\n",
    "\n",
    "plt.legend()\n",
    "plt.show()"
   ]
  },
  {
   "cell_type": "markdown",
   "metadata": {},
   "source": [
    "+ **График среднего чека уже не так однозначен, как график выручки. Здесь лидером до большого заказа была как группа А (13-го числа), так и группа В (примерно с 3 по 10 числа)**\n",
    "+ **425 заказ также сильно повлиял на кривую группы В**\n",
    "+ **После данного заказа средний чек начинает уменьшаться**"
   ]
  },
  {
   "cell_type": "markdown",
   "metadata": {},
   "source": [
    "### График относительного изменения кумулятивного среднего чека группы B к группе A"
   ]
  },
  {
   "cell_type": "markdown",
   "metadata": {},
   "source": [
    "Построим график относительного изменения кумулятивного среднего чека групп"
   ]
  },
  {
   "cell_type": "code",
   "execution_count": 25,
   "metadata": {},
   "outputs": [
    {
     "data": {
      "text/plain": [
       "<matplotlib.lines.Line2D at 0x7f1ee4b09310>"
      ]
     },
     "execution_count": 25,
     "metadata": {},
     "output_type": "execute_result"
    },
    {
     "data": {
      "image/png": "[encoded data removed]",
      "text/plain": [
       "<Figure size 1008x432 with 1 Axes>"
      ]
     },
     "metadata": {
      "needs_background": "light"
     },
     "output_type": "display_data"
    }
   ],
   "source": [
    "# создадим \"обложку\" графика\n",
    "plt.figure(figsize=(14,6))\n",
    "plt.grid()\n",
    "plt.title('График относительного изменения кумулятивного среднего чека группы B к группе A')\n",
    "plt.xlabel('Дата')\n",
    "plt.ylabel('Относительное изменение кумулятивного среднего чека')\n",
    "\n",
    "# собираем данные в одном датафрейме\n",
    "mergedCumulativeRevenue = cumulativeRevenueA.merge(cumulativeRevenueB, left_on='date', right_on='date', how='left', suffixes=['A', 'B'])\n",
    "\n",
    "# cтроим отношение средних чеков\n",
    "plt.plot(mergedCumulativeRevenue['date'], (mergedCumulativeRevenue['revenueB']/mergedCumulativeRevenue['ordersB'])/(mergedCumulativeRevenue['revenueA']/mergedCumulativeRevenue['ordersA'])-1)\n",
    "\n",
    "# добавляем ось X\n",
    "plt.axhline(y=0, color='black', linestyle='--')"
   ]
  },
  {
   "cell_type": "markdown",
   "metadata": {},
   "source": [
    "+ **По данному графику легко понять, что средний чек группы В почти не был меньше среднего чека группы А и был меньше аналогично предыдущему выводу (примерно 1-го лисла и 13-го числа)**\n",
    "+ **Влияние 425 заказа по прежнему остаётся значительным**\n",
    "+ **После большого заказа средний чек уменьшается**"
   ]
  },
  {
   "cell_type": "markdown",
   "metadata": {},
   "source": [
    "###  График кумулятивного среднего количества заказов по группам"
   ]
  },
  {
   "cell_type": "markdown",
   "metadata": {},
   "source": [
    "Построим график кумулятивного среднему количества заказов по группам (конверсии)."
   ]
  },
  {
   "cell_type": "code",
   "execution_count": 26,
   "metadata": {
    "scrolled": false
   },
   "outputs": [
    {
     "data": {
      "text/plain": [
       "<matplotlib.legend.Legend at 0x7f1edc600940>"
      ]
     },
     "execution_count": 26,
     "metadata": {},
     "output_type": "execute_result"
    },
    {
     "data": {
      "image/png": "[encoded data removed]",
      "text/plain": [
       "<Figure size 1008x432 with 1 Axes>"
      ]
     },
     "metadata": {
      "needs_background": "light"
     },
     "output_type": "display_data"
    }
   ],
   "source": [
    "# создадим \"обложку\" графика\n",
    "plt.figure(figsize=(14,6))\n",
    "plt.grid()\n",
    "plt.title('График среднего количества заказов')\n",
    "plt.xlabel('Дата')\n",
    "plt.ylabel('Изменение среднего количества заказов')\n",
    "\n",
    "# считаем кумулятивную конверсию\n",
    "cumulativeData['conversion'] = cumulativeData['orders']/cumulativeData['visitors']\n",
    "\n",
    "# отделяем данные по группе A\n",
    "cumulativeDataA = cumulativeData[cumulativeData['group']=='A']\n",
    "\n",
    "# отделяем данные по группе B\n",
    "cumulativeDataB = cumulativeData[cumulativeData['group']=='B']\n",
    "\n",
    "# строим графики\n",
    "plt.plot(cumulativeDataA['date'], cumulativeDataA['conversion'], label='A')\n",
    "plt.plot(cumulativeDataB['date'], cumulativeDataB['conversion'], label='B')\n",
    "plt.legend()"
   ]
  },
  {
   "cell_type": "markdown",
   "metadata": {},
   "source": [
    "**До 6-го числа среднее количество заказов неоднозначная. Однако, группа А всё же выше, чем группа В. Однако после 6-го числа группа В стала гараздо выше по количеству заказов, чем группа А. Далее графики идут относительно стабильно (группа В выше группы А), но график группы В постепенно падает.**"
   ]
  },
  {
   "cell_type": "markdown",
   "metadata": {},
   "source": [
    "### График относительного изменения кумулятивного среднего количества заказов группы B к группе A"
   ]
  },
  {
   "cell_type": "code",
   "execution_count": 27,
   "metadata": {},
   "outputs": [
    {
     "data": {
      "text/plain": [
       "<matplotlib.lines.Line2D at 0x7f1edc582d00>"
      ]
     },
     "execution_count": 27,
     "metadata": {},
     "output_type": "execute_result"
    },
    {
     "data": {
      "image/png": "[encoded data removed]",
      "text/plain": [
       "<Figure size 1008x432 with 1 Axes>"
      ]
     },
     "metadata": {
      "needs_background": "light"
     },
     "output_type": "display_data"
    }
   ],
   "source": [
    "# создадим \"обложку\" графика\n",
    "plt.figure(figsize=(14,6))\n",
    "plt.grid()\n",
    "plt.title('График относительного изменеия конверсии')\n",
    "plt.xlabel('Дата')\n",
    "plt.ylabel('Относительное изменение конверсии')\n",
    "\n",
    "mergedCumulativeConversions = cumulativeDataA[['date','conversion']].merge(cumulativeDataB[['date','conversion']], left_on='date', right_on='date', how='left', suffixes=['A', 'B'])\n",
    "\n",
    "plt.plot(mergedCumulativeConversions['date'], mergedCumulativeConversions['conversionB']/mergedCumulativeConversions['conversionA']-1, label=\"Относительный прирост конверсии группы B относительно группы A\")\n",
    "plt.legend()\n",
    "\n",
    "plt.axhline(y=0, color='black', linestyle='--')\n",
    "plt.axhline(y=0.1, color='green', linestyle='--')"
   ]
  },
  {
   "cell_type": "markdown",
   "metadata": {},
   "source": [
    "**Как и в предыдущем графике, можно убедиться, что конверсия группы В почти не была ниже конверсии группы А, однако до 6-го числа она всё же была ниже. После 6-го числа конверсия начала рости, а после 20% начала постепенно уменьшаться, достигая 10%, после чего, вероятно, будет расти до 15%. Также можно заметить, что на протяжении всего теста, примерно с 7-го числа, относительное изменение среднего числа заказов выше 10%**"
   ]
  },
  {
   "cell_type": "markdown",
   "metadata": {},
   "source": [
    "### Точечный график количества заказов по пользователям"
   ]
  },
  {
   "cell_type": "code",
   "execution_count": 28,
   "metadata": {},
   "outputs": [
    {
     "data": {
      "text/html": [
       "<div>\n",
       "<style scoped>\n",
       "    .dataframe tbody tr th:only-of-type {\n",
       "        vertical-align: middle;\n",
       "    }\n",
       "\n",
       "    .dataframe tbody tr th {\n",
       "        vertical-align: top;\n",
       "    }\n",
       "\n",
       "    .dataframe thead th {\n",
       "        text-align: right;\n",
       "    }\n",
       "</style>\n",
       "<table border=\"1\" class=\"dataframe\">\n",
       "  <thead>\n",
       "    <tr style=\"text-align: right;\">\n",
       "      <th></th>\n",
       "      <th>userId</th>\n",
       "      <th>orders</th>\n",
       "    </tr>\n",
       "  </thead>\n",
       "  <tbody>\n",
       "    <tr>\n",
       "      <th>1023</th>\n",
       "      <td>4256040402</td>\n",
       "      <td>11</td>\n",
       "    </tr>\n",
       "    <tr>\n",
       "      <th>591</th>\n",
       "      <td>2458001652</td>\n",
       "      <td>11</td>\n",
       "    </tr>\n",
       "    <tr>\n",
       "      <th>569</th>\n",
       "      <td>2378935119</td>\n",
       "      <td>9</td>\n",
       "    </tr>\n",
       "    <tr>\n",
       "      <th>487</th>\n",
       "      <td>2038680547</td>\n",
       "      <td>8</td>\n",
       "    </tr>\n",
       "    <tr>\n",
       "      <th>44</th>\n",
       "      <td>199603092</td>\n",
       "      <td>5</td>\n",
       "    </tr>\n",
       "    <tr>\n",
       "      <th>744</th>\n",
       "      <td>3062433592</td>\n",
       "      <td>5</td>\n",
       "    </tr>\n",
       "    <tr>\n",
       "      <th>55</th>\n",
       "      <td>237748145</td>\n",
       "      <td>5</td>\n",
       "    </tr>\n",
       "    <tr>\n",
       "      <th>917</th>\n",
       "      <td>3803269165</td>\n",
       "      <td>5</td>\n",
       "    </tr>\n",
       "    <tr>\n",
       "      <th>299</th>\n",
       "      <td>1230306981</td>\n",
       "      <td>5</td>\n",
       "    </tr>\n",
       "    <tr>\n",
       "      <th>897</th>\n",
       "      <td>3717692402</td>\n",
       "      <td>5</td>\n",
       "    </tr>\n",
       "  </tbody>\n",
       "</table>\n",
       "</div>"
      ],
      "text/plain": [
       "          userId  orders\n",
       "1023  4256040402      11\n",
       "591   2458001652      11\n",
       "569   2378935119       9\n",
       "487   2038680547       8\n",
       "44     199603092       5\n",
       "744   3062433592       5\n",
       "55     237748145       5\n",
       "917   3803269165       5\n",
       "299   1230306981       5\n",
       "897   3717692402       5"
      ]
     },
     "execution_count": 28,
     "metadata": {},
     "output_type": "execute_result"
    }
   ],
   "source": [
    "ordersByUsers = (\n",
    "    orders.groupby('visitorId', as_index=False)\n",
    "    .agg({'transactionId': 'nunique'})\n",
    ")\n",
    "\n",
    "ordersByUsers.columns = ['userId', 'orders']\n",
    "\n",
    "ordersByUsers.sort_values(by='orders', ascending=False).head(10)"
   ]
  },
  {
   "cell_type": "code",
   "execution_count": 29,
   "metadata": {},
   "outputs": [
    {
     "data": {
      "text/plain": [
       "<matplotlib.collections.PathCollection at 0x7f1edc44da60>"
      ]
     },
     "execution_count": 29,
     "metadata": {},
     "output_type": "execute_result"
    },
    {
     "data": {
      "image/png": "[encoded data removed]",
      "text/plain": [
       "<Figure size 1008x432 with 1 Axes>"
      ]
     },
     "metadata": {
      "needs_background": "light"
     },
     "output_type": "display_data"
    }
   ],
   "source": [
    "# построим график\n",
    "x_values = pd.Series(range(0,len(ordersByUsers)))\n",
    "\n",
    "# создадим \"обложку\" графика\n",
    "plt.figure(figsize=(14,6))\n",
    "plt.grid()\n",
    "plt.title('График отношения количества заказов по пользователям')\n",
    "plt.xlabel('Пользователи')\n",
    "plt.ylabel('Заказы')\n",
    "\n",
    "plt.scatter(x_values, ordersByUsers['orders'], alpha=0.5)"
   ]
  },
  {
   "cell_type": "markdown",
   "metadata": {},
   "source": [
    "**Из данного графика можно сделать несколько выводов:**\n",
    "+ **Большая часть пользователей совершили 1 заказ**\n",
    "+ **Пользователей, совершивших 2 заказа мало, но они есть**\n",
    "+ **Остальные точки - аномалии, для которых нужно посчитать 95-й и 99-й перцентили**"
   ]
  },
  {
   "cell_type": "markdown",
   "metadata": {},
   "source": [
    "### 95-й и 99-й перцентили количества заказов на пользователя"
   ]
  },
  {
   "cell_type": "code",
   "execution_count": 30,
   "metadata": {
    "scrolled": true
   },
   "outputs": [
    {
     "name": "stdout",
     "output_type": "stream",
     "text": [
      "[2. 4.]\n"
     ]
    }
   ],
   "source": [
    "print(np.percentile(ordersByUsers['orders'], [95, 99])) "
   ]
  },
  {
   "cell_type": "markdown",
   "metadata": {},
   "source": [
    "Для большей точности рассматрим все перцентили."
   ]
  },
  {
   "cell_type": "code",
   "execution_count": 31,
   "metadata": {},
   "outputs": [
    {
     "name": "stdout",
     "output_type": "stream",
     "text": [
      "[2. 2. 2. 3. 4.]\n"
     ]
    }
   ],
   "source": [
    "print(np.percentile(ordersByUsers['orders'], [95, 96, 97, 98, 99])) "
   ]
  },
  {
   "cell_type": "markdown",
   "metadata": {},
   "source": [
    "**Граница для определения аномальных заказов: 2 заказа, так как 97% процентов пользователей далеют на 1-2 заказа, все остальные значения - выбросы, так как их меньше 5%, ими можно пренебречь.**"
   ]
  },
  {
   "cell_type": "markdown",
   "metadata": {},
   "source": [
    "###  Точечный график стоимостей заказов"
   ]
  },
  {
   "cell_type": "code",
   "execution_count": 32,
   "metadata": {},
   "outputs": [
    {
     "data": {
      "text/plain": [
       "<matplotlib.collections.PathCollection at 0x7f1edc3b10d0>"
      ]
     },
     "execution_count": 32,
     "metadata": {},
     "output_type": "execute_result"
    },
    {
     "data": {
      "image/png": "[encoded data removed]",
      "text/plain": [
       "<Figure size 1008x432 with 1 Axes>"
      ]
     },
     "metadata": {
      "needs_background": "light"
     },
     "output_type": "display_data"
    }
   ],
   "source": [
    "# построим график\n",
    "x_values = pd.Series(range(0,len(orders['revenue'])))\n",
    "\n",
    "# создадим \"обложку\" графика\n",
    "plt.figure(figsize=(14,6))\n",
    "plt.grid()\n",
    "plt.title('График стоимости заказов')\n",
    "plt.xlabel('Заказы')\n",
    "plt.ylabel('Стоимость')\n",
    "\n",
    "plt.scatter(x_values, orders['revenue'], alpha=0.5)"
   ]
  },
  {
   "cell_type": "markdown",
   "metadata": {},
   "source": [
    "**На графике видно 2 явных выброса. Один из них явно аномальный заказ 425, также есть ещё один на 200000. Для нахождения границы стоимости заказов рассчитаем процентили**"
   ]
  },
  {
   "cell_type": "markdown",
   "metadata": {},
   "source": [
    "Посмотрим, как выглядит график без явного выброса"
   ]
  },
  {
   "cell_type": "code",
   "execution_count": 33,
   "metadata": {
    "scrolled": false
   },
   "outputs": [
    {
     "data": {
      "text/plain": [
       "<matplotlib.collections.PathCollection at 0x7f1edc39dc10>"
      ]
     },
     "execution_count": 33,
     "metadata": {},
     "output_type": "execute_result"
    },
    {
     "data": {
      "image/png": "[encoded data removed]",
      "text/plain": [
       "<Figure size 1008x432 with 1 Axes>"
      ]
     },
     "metadata": {
      "needs_background": "light"
     },
     "output_type": "display_data"
    }
   ],
   "source": [
    "# построим график\n",
    "x_values = pd.Series(range(0,len(orders[orders['revenue']<=200000]['revenue'])))\n",
    "\n",
    "# создадим \"обложку\" графика\n",
    "plt.figure(figsize=(14,6))\n",
    "plt.grid()\n",
    "plt.title('График стоимости заказов')\n",
    "plt.xlabel('Заказы')\n",
    "plt.ylabel('Стоимость')\n",
    "\n",
    "plt.scatter(x_values, orders[orders['revenue']<=200000]['revenue'], alpha=0.5)"
   ]
  },
  {
   "cell_type": "markdown",
   "metadata": {},
   "source": [
    "**Построив график без выброса стало понятно, что большая часть пользователей совергали покупки в пределах 20 000. Однако, пользователи также совершают покупки до 40 000, далее идёт малое количество пользователей.**"
   ]
  },
  {
   "cell_type": "markdown",
   "metadata": {},
   "source": [
    "### 95-й и 99-й перцентили стоимости заказов"
   ]
  },
  {
   "cell_type": "code",
   "execution_count": 34,
   "metadata": {
    "scrolled": true
   },
   "outputs": [
    {
     "name": "stdout",
     "output_type": "stream",
     "text": [
      "[28000.  58233.2]\n"
     ]
    }
   ],
   "source": [
    "print(np.percentile(orders['revenue'], [95, 99])) "
   ]
  },
  {
   "cell_type": "markdown",
   "metadata": {},
   "source": [
    "Как и в прошлый раз посмотрим на перцентили подробнее."
   ]
  },
  {
   "cell_type": "code",
   "execution_count": 35,
   "metadata": {
    "scrolled": true
   },
   "outputs": [
    {
     "name": "stdout",
     "output_type": "stream",
     "text": [
      "[28000.  31382.  35485.  44133.2 58233.2]\n"
     ]
    }
   ],
   "source": [
    "print(np.percentile(orders['revenue'], [95, 96, 97, 98, 99])) "
   ]
  },
  {
   "cell_type": "markdown",
   "metadata": {},
   "source": [
    "**Между 98% и 99% разница пример 14000. Это достаточно много относительно других значений. Значит можно поставить границей можно 44133,2 (98%).**"
   ]
  },
  {
   "cell_type": "markdown",
   "metadata": {},
   "source": [
    "### Статистическая значимость различий в среднем количестве заказов между группами по «сырым» данным"
   ]
  },
  {
   "cell_type": "markdown",
   "metadata": {},
   "source": [
    "Чтобы посчитать статистическую значимость различий в среднем числе заказов необходимо собрать все данные в 1 таблицу."
   ]
  },
  {
   "cell_type": "code",
   "execution_count": 36,
   "metadata": {},
   "outputs": [],
   "source": [
    "visitorsADaily = visitors[visitors['group'] == 'A'][['date', 'visitors']]\n",
    "visitorsADaily.columns = ['date', 'visitorsPerDateA']\n",
    "\n",
    "visitorsACummulative = visitorsADaily.apply(\n",
    "    lambda x: visitorsADaily[visitorsADaily['date'] <= x['date']].agg(\n",
    "        {'date': 'max', 'visitorsPerDateA': 'sum'}\n",
    "    ),\n",
    "    axis=1,\n",
    ")\n",
    "visitorsACummulative.columns = ['date', 'visitorsCummulativeA']\n",
    "\n",
    "visitorsBDaily = visitors[visitors['group'] == 'B'][['date', 'visitors']]\n",
    "visitorsBDaily.columns = ['date', 'visitorsPerDateB']\n",
    "\n",
    "visitorsBCummulative = visitorsBDaily.apply(\n",
    "    lambda x: visitorsBDaily[visitorsBDaily['date'] <= x['date']].agg(\n",
    "        {'date': 'max', 'visitorsPerDateB': 'sum'}\n",
    "    ),\n",
    "    axis=1,\n",
    ")\n",
    "visitorsBCummulative.columns = ['date', 'visitorsCummulativeB']"
   ]
  },
  {
   "cell_type": "code",
   "execution_count": 37,
   "metadata": {},
   "outputs": [],
   "source": [
    "ordersADaily = (\n",
    "    orders[orders['group'] == 'A'][['date', 'transactionId', 'visitorId', 'revenue']]\n",
    "    .groupby('date', as_index=False)\n",
    "    .agg({'transactionId': pd.Series.nunique, 'revenue': 'sum'})\n",
    ")\n",
    "ordersADaily.columns = ['date', 'ordersPerDateA', 'revenuePerDateA']\n",
    "\n",
    "ordersACummulative = ordersADaily.apply(\n",
    "    lambda x: ordersADaily[ordersADaily['date'] <= x['date']].agg(\n",
    "        {'date': 'max', 'ordersPerDateA': 'sum', 'revenuePerDateA': 'sum'}\n",
    "    ),\n",
    "    axis=1,\n",
    ").sort_values(by=['date'])\n",
    "ordersACummulative.columns = [\n",
    "    'date',\n",
    "    'ordersCummulativeA',\n",
    "    'revenueCummulativeA',\n",
    "]\n",
    "\n",
    "ordersBDaily = (\n",
    "    orders[orders['group'] == 'B'][['date', 'transactionId', 'visitorId', 'revenue']]\n",
    "    .groupby('date', as_index=False)\n",
    "    .agg({'transactionId': pd.Series.nunique, 'revenue': 'sum'})\n",
    ")\n",
    "ordersBDaily.columns = ['date', 'ordersPerDateB', 'revenuePerDateB']\n",
    "\n",
    "ordersBCummulative = ordersBDaily.apply(\n",
    "    lambda x: ordersBDaily[ordersBDaily['date'] <= x['date']].agg(\n",
    "        {'date': 'max', 'ordersPerDateB': 'sum', 'revenuePerDateB': 'sum'}\n",
    "    ),\n",
    "    axis=1,\n",
    ").sort_values(by=['date'])\n",
    "ordersBCummulative.columns = [\n",
    "    'date',\n",
    "    'ordersCummulativeB',\n",
    "    'revenueCummulativeB',\n",
    "]"
   ]
  },
  {
   "cell_type": "code",
   "execution_count": 38,
   "metadata": {},
   "outputs": [
    {
     "data": {
      "text/html": [
       "<div>\n",
       "<style scoped>\n",
       "    .dataframe tbody tr th:only-of-type {\n",
       "        vertical-align: middle;\n",
       "    }\n",
       "\n",
       "    .dataframe tbody tr th {\n",
       "        vertical-align: top;\n",
       "    }\n",
       "\n",
       "    .dataframe thead th {\n",
       "        text-align: right;\n",
       "    }\n",
       "</style>\n",
       "<table border=\"1\" class=\"dataframe\">\n",
       "  <thead>\n",
       "    <tr style=\"text-align: right;\">\n",
       "      <th></th>\n",
       "      <th>date</th>\n",
       "      <th>ordersPerDateA</th>\n",
       "      <th>revenuePerDateA</th>\n",
       "      <th>ordersPerDateB</th>\n",
       "      <th>revenuePerDateB</th>\n",
       "      <th>ordersCummulativeA</th>\n",
       "      <th>revenueCummulativeA</th>\n",
       "      <th>ordersCummulativeB</th>\n",
       "      <th>revenueCummulativeB</th>\n",
       "      <th>visitorsPerDateA</th>\n",
       "      <th>visitorsPerDateB</th>\n",
       "      <th>visitorsCummulativeA</th>\n",
       "      <th>visitorsCummulativeB</th>\n",
       "    </tr>\n",
       "  </thead>\n",
       "  <tbody>\n",
       "    <tr>\n",
       "      <th>0</th>\n",
       "      <td>2019-08-01</td>\n",
       "      <td>24</td>\n",
       "      <td>148579</td>\n",
       "      <td>21</td>\n",
       "      <td>101217</td>\n",
       "      <td>24</td>\n",
       "      <td>148579</td>\n",
       "      <td>21</td>\n",
       "      <td>101217</td>\n",
       "      <td>719</td>\n",
       "      <td>713</td>\n",
       "      <td>719</td>\n",
       "      <td>713</td>\n",
       "    </tr>\n",
       "    <tr>\n",
       "      <th>1</th>\n",
       "      <td>2019-08-02</td>\n",
       "      <td>20</td>\n",
       "      <td>93822</td>\n",
       "      <td>24</td>\n",
       "      <td>165531</td>\n",
       "      <td>44</td>\n",
       "      <td>242401</td>\n",
       "      <td>45</td>\n",
       "      <td>266748</td>\n",
       "      <td>619</td>\n",
       "      <td>581</td>\n",
       "      <td>1338</td>\n",
       "      <td>1294</td>\n",
       "    </tr>\n",
       "    <tr>\n",
       "      <th>2</th>\n",
       "      <td>2019-08-03</td>\n",
       "      <td>24</td>\n",
       "      <td>112473</td>\n",
       "      <td>16</td>\n",
       "      <td>114248</td>\n",
       "      <td>68</td>\n",
       "      <td>354874</td>\n",
       "      <td>61</td>\n",
       "      <td>380996</td>\n",
       "      <td>507</td>\n",
       "      <td>509</td>\n",
       "      <td>1845</td>\n",
       "      <td>1803</td>\n",
       "    </tr>\n",
       "    <tr>\n",
       "      <th>3</th>\n",
       "      <td>2019-08-04</td>\n",
       "      <td>16</td>\n",
       "      <td>70825</td>\n",
       "      <td>17</td>\n",
       "      <td>108571</td>\n",
       "      <td>84</td>\n",
       "      <td>425699</td>\n",
       "      <td>78</td>\n",
       "      <td>489567</td>\n",
       "      <td>717</td>\n",
       "      <td>770</td>\n",
       "      <td>2562</td>\n",
       "      <td>2573</td>\n",
       "    </tr>\n",
       "    <tr>\n",
       "      <th>4</th>\n",
       "      <td>2019-08-05</td>\n",
       "      <td>25</td>\n",
       "      <td>124218</td>\n",
       "      <td>23</td>\n",
       "      <td>92428</td>\n",
       "      <td>109</td>\n",
       "      <td>549917</td>\n",
       "      <td>101</td>\n",
       "      <td>581995</td>\n",
       "      <td>756</td>\n",
       "      <td>707</td>\n",
       "      <td>3318</td>\n",
       "      <td>3280</td>\n",
       "    </tr>\n",
       "  </tbody>\n",
       "</table>\n",
       "</div>"
      ],
      "text/plain": [
       "        date  ordersPerDateA  revenuePerDateA  ordersPerDateB  \\\n",
       "0 2019-08-01              24           148579              21   \n",
       "1 2019-08-02              20            93822              24   \n",
       "2 2019-08-03              24           112473              16   \n",
       "3 2019-08-04              16            70825              17   \n",
       "4 2019-08-05              25           124218              23   \n",
       "\n",
       "   revenuePerDateB  ordersCummulativeA  revenueCummulativeA  \\\n",
       "0           101217                  24               148579   \n",
       "1           165531                  44               242401   \n",
       "2           114248                  68               354874   \n",
       "3           108571                  84               425699   \n",
       "4            92428                 109               549917   \n",
       "\n",
       "   ordersCummulativeB  revenueCummulativeB  visitorsPerDateA  \\\n",
       "0                  21               101217               719   \n",
       "1                  45               266748               619   \n",
       "2                  61               380996               507   \n",
       "3                  78               489567               717   \n",
       "4                 101               581995               756   \n",
       "\n",
       "   visitorsPerDateB  visitorsCummulativeA  visitorsCummulativeB  \n",
       "0               713                   719                   713  \n",
       "1               581                  1338                  1294  \n",
       "2               509                  1845                  1803  \n",
       "3               770                  2562                  2573  \n",
       "4               707                  3318                  3280  "
      ]
     },
     "execution_count": 38,
     "metadata": {},
     "output_type": "execute_result"
    }
   ],
   "source": [
    "data = (\n",
    "    ordersADaily.merge(\n",
    "        ordersBDaily, left_on='date', right_on='date', how='left'\n",
    "    )\n",
    "    .merge(ordersACummulative, left_on='date', right_on='date', how='left')\n",
    "    .merge(ordersBCummulative, left_on='date', right_on='date', how='left')\n",
    "    .merge(visitorsADaily, left_on='date', right_on='date', how='left')\n",
    "    .merge(visitorsBDaily, left_on='date', right_on='date', how='left')\n",
    "    .merge(visitorsACummulative, left_on='date', right_on='date', how='left')\n",
    "    .merge(visitorsBCummulative, left_on='date', right_on='date', how='left')\n",
    ")\n",
    "\n",
    "data.head(5)"
   ]
  },
  {
   "cell_type": "markdown",
   "metadata": {},
   "source": [
    "Применим тест Манна-Уитни.\n",
    "\n",
    "Сформулируем гипотезы:\n",
    "\n",
    "+ H0 = {Статистическая значимость различий в среднем количестве заказов между группами отсутстсвует}\n",
    "\n",
    "+ H1 = {Статистическая значимость различий в среднем количестве заказов между группами присутствует}\n"
   ]
  },
  {
   "cell_type": "code",
   "execution_count": 39,
   "metadata": {},
   "outputs": [
    {
     "name": "stdout",
     "output_type": "stream",
     "text": [
      "alpha 0.05\n",
      "p-value 0.01679\n",
      "Относительное различие в среднем между группами 0.138\n"
     ]
    }
   ],
   "source": [
    "ordersByUsersA = (\n",
    "    orders[orders['group'] == 'A']\n",
    "    .groupby('visitorId', as_index=False)\n",
    "    .agg({'transactionId': pd.Series.nunique})\n",
    ")\n",
    "ordersByUsersA.columns = ['userId', 'orders']\n",
    "\n",
    "ordersByUsersB = (\n",
    "    orders[orders['group'] == 'B']\n",
    "    .groupby('visitorId', as_index=False)\n",
    "    .agg({'transactionId': pd.Series.nunique})\n",
    ")\n",
    "ordersByUsersB.columns = ['userId', 'orders']\n",
    "\n",
    "sampleA = pd.concat(\n",
    "    [\n",
    "        ordersByUsersA['orders'],\n",
    "        pd.Series(\n",
    "            0,\n",
    "            index=np.arange(\n",
    "                data['visitorsPerDateA'].sum() - len(ordersByUsersA['orders'])\n",
    "            ),\n",
    "            name='orders',\n",
    "        ),\n",
    "    ],\n",
    "    axis=0,\n",
    ")\n",
    "\n",
    "sampleB = pd.concat(\n",
    "    [\n",
    "        ordersByUsersB['orders'],\n",
    "        pd.Series(\n",
    "            0,\n",
    "            index=np.arange(\n",
    "                data['visitorsPerDateB'].sum() - len(ordersByUsersB['orders'])\n",
    "            ),\n",
    "            name='orders',\n",
    "        ),\n",
    "    ],\n",
    "    axis=0,\n",
    ")\n",
    "\n",
    "print('alpha', 0.05)\n",
    "\n",
    "print('p-value {0:.5f}'.format(stats.mannwhitneyu(sampleA, sampleB)[1]))\n",
    "\n",
    "print('Относительное различие в среднем между группами {0:.3f}'.format((data['ordersPerDateB'].sum()/data['visitorsPerDateB'].sum())/(data['ordersPerDateA'].sum()/data['visitorsPerDateA'].sum())-1))"
   ]
  },
  {
   "cell_type": "markdown",
   "metadata": {},
   "source": [
    "**Нулевую гипотезу отвергаем (0,05>0,1679), значит статистическая значимость различий в среднем количестве заказов между группами присутствует. Относительное различие составляет 13,8%**"
   ]
  },
  {
   "cell_type": "markdown",
   "metadata": {},
   "source": [
    "### Статистическую значимость различий в среднем чеке заказа между группами по «сырым» данным"
   ]
  },
  {
   "cell_type": "markdown",
   "metadata": {},
   "source": [
    " + H0 = {Cтатистически значимых различий в средних чеках между группами нет}\n",
    " \n",
    " + H1 = {Есть статистически значимых различий в средних чеках между группами}\n",
    " \n",
    " Найдём относительные различия в среднем чеке между группами:"
   ]
  },
  {
   "cell_type": "code",
   "execution_count": 40,
   "metadata": {},
   "outputs": [
    {
     "name": "stdout",
     "output_type": "stream",
     "text": [
      "alpha 0.05\n",
      "p-value 0.729\n",
      "Относительное различие в среднем между группами 0.259\n"
     ]
    }
   ],
   "source": [
    "print('alpha', 0.05)\n",
    "\n",
    "print('p-value {0:.3f}'.format(stats.mannwhitneyu(orders[orders['group']=='A']['revenue'], orders[orders['group']=='B']['revenue'])[1]))\n",
    "\n",
    "print('Относительное различие в среднем между группами {0:.3f}'.format(orders[orders['group']=='B']['revenue'].mean()/orders[orders['group']=='A']['revenue'].mean()-1))"
   ]
  },
  {
   "cell_type": "markdown",
   "metadata": {},
   "source": [
    "+ **Нулевую гипотезу не отвергаем (0,729 > 0,05). Значит статистически значимых различий в средних чеках между группами нет (средние чеки почти не различны).**\n",
    "\n",
    "+ **Средний чек группы В больше среднего чека группы А на 25,9%.**\n",
    "\n",
    "+ **Сразу видно влияние выброса на метрику по существенной разнице между группами**\n"
   ]
  },
  {
   "cell_type": "markdown",
   "metadata": {},
   "source": [
    "### Статистическая значимость различий в среднем количестве заказов между группами по «очищенным» данным"
   ]
  },
  {
   "cell_type": "markdown",
   "metadata": {},
   "source": [
    "Приступаем к подготовке очищенных от аномалий данных.\n",
    "\n",
    "В ходе этого пункта мы:\n",
    "\n",
    "+ определим столько всего аномалий\n",
    "+ сделаем срезы пользователей с числом заказов больше 2 — `usersWithManyOrders` и пользователей, совершивших заказы дороже 44133,2 — `usersWithExpensiveOrders`\n",
    "+ объединим их в таблице `abnormalUsers`"
   ]
  },
  {
   "cell_type": "code",
   "execution_count": 41,
   "metadata": {},
   "outputs": [
    {
     "name": "stdout",
     "output_type": "stream",
     "text": [
      "1099    148427295\n",
      "18      199603092\n",
      "23      237748145\n",
      "37      249864742\n",
      "68      457167155\n",
      "dtype: int64\n"
     ]
    }
   ],
   "source": [
    "usersWithManyOrders = pd.concat(\n",
    "    [\n",
    "        ordersByUsersA[ordersByUsersA['orders'] > 2]['userId'],\n",
    "        ordersByUsersB[ordersByUsersB['orders'] > 2]['userId'],\n",
    "    ],\n",
    "    axis=0,\n",
    ")\n",
    "usersWithExpensiveOrders = orders[orders['revenue'] > 44133.2]['visitorId']\n",
    "abnormalUsers = (\n",
    "    pd.concat([usersWithManyOrders, usersWithExpensiveOrders], axis=0)\n",
    "    .drop_duplicates()\n",
    "    .sort_values()\n",
    ")\n",
    "\n",
    "print(abnormalUsers.head(5))"
   ]
  },
  {
   "cell_type": "code",
   "execution_count": 42,
   "metadata": {
    "scrolled": true
   },
   "outputs": [
    {
     "name": "stdout",
     "output_type": "stream",
     "text": [
      "Всего аномалий: 40\n"
     ]
    }
   ],
   "source": [
    "print('Всего аномалий:', abnormalUsers.shape[0])"
   ]
  },
  {
   "cell_type": "markdown",
   "metadata": {},
   "source": [
    "Напомню, что ранее были сформулированы 2 гипотезы. Также мы основа применим тест Манна-Уитни.\n",
    "\n",
    "+ H0 = {Статистическая значимость различий в среднем количестве заказов между группами отсутстсвует}\n",
    "+ H1 = {Статистическая значимость различий в среднем количестве заказов между группами присутствует}\n"
   ]
  },
  {
   "cell_type": "code",
   "execution_count": 43,
   "metadata": {},
   "outputs": [
    {
     "name": "stdout",
     "output_type": "stream",
     "text": [
      "alpha 0.05\n",
      "p-value 0.00740\n",
      "Относительное различие в среднем между группами 0.185\n"
     ]
    }
   ],
   "source": [
    "sampleAFiltered = pd.concat(\n",
    "    [\n",
    "        ordersByUsersA[\n",
    "            np.logical_not(ordersByUsersA['userId'].isin(abnormalUsers))\n",
    "        ]['orders'],\n",
    "        pd.Series(\n",
    "            0,\n",
    "            index=np.arange(\n",
    "                data['visitorsPerDateA'].sum() - len(ordersByUsersA['orders'])\n",
    "            ),\n",
    "            name='orders',\n",
    "        ),\n",
    "    ],\n",
    "    axis=0,\n",
    ")\n",
    "\n",
    "sampleBFiltered = pd.concat(\n",
    "    [\n",
    "        ordersByUsersB[\n",
    "            np.logical_not(ordersByUsersB['userId'].isin(abnormalUsers))\n",
    "        ]['orders'],\n",
    "        pd.Series(\n",
    "            0,\n",
    "            index=np.arange(\n",
    "                data['visitorsPerDateB'].sum() - len(ordersByUsersB['orders'])\n",
    "            ),\n",
    "            name='orders',\n",
    "        ),\n",
    "    ],\n",
    "    axis=0,\n",
    ")\n",
    "\n",
    "print('alpha', 0.05)\n",
    "\n",
    "print('p-value {0:.5f}'.format(stats.mannwhitneyu(sampleAFiltered, sampleBFiltered)[1]))\n",
    "\n",
    "print('Относительное различие в среднем между группами {0:.3f}'.format(sampleBFiltered.mean()/sampleAFiltered.mean()-1))"
   ]
  },
  {
   "cell_type": "markdown",
   "metadata": {},
   "source": [
    "**Нулевую гипотезу внововь отвергаем. Это значит, что различия есть. При этом Относительная разница между группами увеличилась с 13,8% до 18,5%**"
   ]
  },
  {
   "cell_type": "markdown",
   "metadata": {},
   "source": [
    "### Статистическая значимость различий в среднем чеке заказа между группами по «очищенным» данным"
   ]
  },
  {
   "cell_type": "markdown",
   "metadata": {},
   "source": [
    "Теперь определим влияние аномалий на средний чек.\n",
    "\n",
    "Аналогично пункту 3.11 выдвигаем гипотезы:\n",
    "\n",
    "+ H0 = {Cтатистически значимых различий в средних чеках между группами нет}\n",
    "\n",
    "+ H1 = {Есть статистически значимых различий в средних чеках между группами}"
   ]
  },
  {
   "cell_type": "code",
   "execution_count": 44,
   "metadata": {},
   "outputs": [
    {
     "name": "stdout",
     "output_type": "stream",
     "text": [
      "alpha 0.05\n",
      "p-value 0.994\n",
      "Относительное различие в среднем между группами 0.037\n"
     ]
    }
   ],
   "source": [
    "print('alpha', 0.05)\n",
    "\n",
    "print(\n",
    "    'p-value {0:.3f}'.format(\n",
    "        stats.mannwhitneyu(\n",
    "            orders[\n",
    "                np.logical_and(\n",
    "                    orders['group'] == 'A',\n",
    "                    np.logical_not(orders['visitorId'].isin(abnormalUsers)),\n",
    "                )\n",
    "            ]['revenue'],\n",
    "            orders[\n",
    "                np.logical_and(\n",
    "                    orders['group'] == 'B',\n",
    "                    np.logical_not(orders['visitorId'].isin(abnormalUsers)),\n",
    "                )\n",
    "            ]['revenue'],\n",
    "        )[1]\n",
    "    )\n",
    ")\n",
    "\n",
    "print(\n",
    "    \"Относительное различие в среднем между группами {0:.3f}\".format(\n",
    "        orders[\n",
    "            np.logical_and(\n",
    "                orders['group'] == 'B',\n",
    "                np.logical_not(orders['visitorId'].isin(abnormalUsers)),\n",
    "            )\n",
    "        ]['revenue'].mean()\n",
    "        / orders[\n",
    "            np.logical_and(\n",
    "                orders['group'] == 'A',\n",
    "                np.logical_not(orders['visitorId'].isin(abnormalUsers)),\n",
    "            )\n",
    "        ]['revenue'].mean()\n",
    "        - 1\n",
    "    )\n",
    ")"
   ]
  },
  {
   "cell_type": "markdown",
   "metadata": {},
   "source": [
    "**Как и в случае с \"сырыми\" данными нулевую гипотезу не отвергаем, это значит что существенной разницы в среднем чеке нет. Также сразу можно заметить разницу между отнносительным различием групп. Если ранее чек группы В был больше 25,9%, то сейчас всего лишь на 3,7%. Это значит, что влияение заказа 425 было очень велико.**"
   ]
  },
  {
   "cell_type": "markdown",
   "metadata": {},
   "source": [
    "<div style=\"border:solid green 2px; padding: 20px\">\n",
    "    \n",
    "    В результате можно остановить тест и зафиксировать победу группы В. Такое решение вполне однозначно, так как группа В эффективнее из-за конверсии, хотя средний чек (без аномалий) примерно однаковый, но с небольшим отрывом группы В.\n",
    "    \n",
    "</div>"
   ]
  },
  {
   "cell_type": "markdown",
   "metadata": {},
   "source": [
    "___"
   ]
  },
  {
   "cell_type": "markdown",
   "metadata": {},
   "source": [
    "## Выводы"
   ]
  },
  {
   "cell_type": "markdown",
   "metadata": {},
   "source": [
    "В ходе работы были проделы следующие шаги:\n",
    "\n",
    "+ Совершена предобработка данных\n",
    "+ Приоритизированы гипотезы\n",
    "+ Запущен А/В тест"
   ]
  },
  {
   "cell_type": "markdown",
   "metadata": {},
   "source": [
    "<div style=\"border:solid green 2px; padding: 20px\">\n",
    "    \n",
    "    1. Разница в среднем количестве заказов (конверсии) есть и в \"сырых\" и в \"чистых\" данных.\n",
    "    2. Разницы между чеками практически нет.\n",
    "    3. 425 заказ, который значительно поднял средний чек 19 числа, мог бы сильно исказить данные, если бы не был проведён А/В тест.\n",
    "    4. По итогу, выиграла группа В за счёт большего среднее количество заказов.\n",
    "    \n",
    "</div>"
   ]
  }
 ],
 "metadata": {
  "ExecuteTimeLog": [
   {
    "duration": 383,
    "start_time": "2022-11-05T21:09:34.339Z"
   },
   {
    "duration": 243,
    "start_time": "2022-11-05T21:10:09.249Z"
   },
   {
    "duration": 3,
    "start_time": "2022-11-05T21:10:11.270Z"
   },
   {
    "duration": 67,
    "start_time": "2022-11-05T21:13:33.252Z"
   },
   {
    "duration": 2,
    "start_time": "2022-11-05T21:13:36.290Z"
   },
   {
    "duration": 75,
    "start_time": "2022-11-05T21:13:36.556Z"
   },
   {
    "duration": 3,
    "start_time": "2022-11-05T21:13:36.900Z"
   },
   {
    "duration": 14,
    "start_time": "2022-11-05T21:14:06.335Z"
   },
   {
    "duration": 8,
    "start_time": "2022-11-05T21:14:07.360Z"
   },
   {
    "duration": 7,
    "start_time": "2022-11-05T21:14:08.074Z"
   },
   {
    "duration": 25,
    "start_time": "2022-11-05T21:15:16.535Z"
   },
   {
    "duration": 7,
    "start_time": "2022-11-05T21:24:48.526Z"
   },
   {
    "duration": 22,
    "start_time": "2022-11-05T21:24:51.967Z"
   },
   {
    "duration": 8,
    "start_time": "2022-11-05T21:26:36.442Z"
   },
   {
    "duration": 10,
    "start_time": "2022-11-05T21:40:06.001Z"
   },
   {
    "duration": 7,
    "start_time": "2022-11-05T21:41:27.412Z"
   },
   {
    "duration": 8,
    "start_time": "2022-11-05T21:42:06.879Z"
   },
   {
    "duration": 7,
    "start_time": "2022-11-05T21:42:17.271Z"
   },
   {
    "duration": 7,
    "start_time": "2022-11-05T21:46:24.486Z"
   },
   {
    "duration": 12,
    "start_time": "2022-11-05T21:46:29.040Z"
   },
   {
    "duration": 7,
    "start_time": "2022-11-05T21:48:44.299Z"
   },
   {
    "duration": 4,
    "start_time": "2022-11-05T21:48:56.307Z"
   },
   {
    "duration": 7,
    "start_time": "2022-11-05T21:50:59.649Z"
   },
   {
    "duration": 6,
    "start_time": "2022-11-05T21:51:09.070Z"
   },
   {
    "duration": 3,
    "start_time": "2022-11-05T21:52:01.376Z"
   },
   {
    "duration": 10,
    "start_time": "2022-11-05T21:52:03.691Z"
   },
   {
    "duration": 9,
    "start_time": "2022-11-05T21:53:16.506Z"
   },
   {
    "duration": 4,
    "start_time": "2022-11-05T21:55:29.004Z"
   },
   {
    "duration": 10,
    "start_time": "2022-11-05T21:55:32.208Z"
   },
   {
    "duration": 412,
    "start_time": "2022-11-05T21:55:58.293Z"
   },
   {
    "duration": 77,
    "start_time": "2022-11-05T21:55:58.709Z"
   },
   {
    "duration": 4,
    "start_time": "2022-11-05T21:55:58.787Z"
   },
   {
    "duration": 15,
    "start_time": "2022-11-05T21:55:58.793Z"
   },
   {
    "duration": 4,
    "start_time": "2022-11-05T21:55:58.809Z"
   },
   {
    "duration": 11,
    "start_time": "2022-11-05T21:55:58.814Z"
   },
   {
    "duration": 12,
    "start_time": "2022-11-05T21:55:58.826Z"
   },
   {
    "duration": 27,
    "start_time": "2022-11-05T21:55:58.839Z"
   },
   {
    "duration": 5,
    "start_time": "2022-11-05T21:55:58.868Z"
   },
   {
    "duration": 34,
    "start_time": "2022-11-05T21:55:58.875Z"
   },
   {
    "duration": 8,
    "start_time": "2022-11-05T21:55:58.910Z"
   },
   {
    "duration": 12,
    "start_time": "2022-11-05T21:55:58.920Z"
   },
   {
    "duration": 11,
    "start_time": "2022-11-05T21:55:58.934Z"
   },
   {
    "duration": 9,
    "start_time": "2022-11-05T21:56:33.433Z"
   },
   {
    "duration": 75,
    "start_time": "2022-11-05T21:57:24.311Z"
   },
   {
    "duration": 10,
    "start_time": "2022-11-05T21:57:28.141Z"
   },
   {
    "duration": 373,
    "start_time": "2022-11-06T14:03:26.902Z"
   },
   {
    "duration": 201,
    "start_time": "2022-11-06T14:03:27.276Z"
   },
   {
    "duration": 3,
    "start_time": "2022-11-06T14:03:27.479Z"
   },
   {
    "duration": 16,
    "start_time": "2022-11-06T14:03:27.483Z"
   },
   {
    "duration": 7,
    "start_time": "2022-11-06T14:03:27.501Z"
   },
   {
    "duration": 9,
    "start_time": "2022-11-06T14:03:27.509Z"
   },
   {
    "duration": 22,
    "start_time": "2022-11-06T14:03:27.519Z"
   },
   {
    "duration": 5,
    "start_time": "2022-11-06T14:03:27.543Z"
   },
   {
    "duration": 28,
    "start_time": "2022-11-06T14:03:27.550Z"
   },
   {
    "duration": 21,
    "start_time": "2022-11-06T14:03:27.580Z"
   },
   {
    "duration": 21,
    "start_time": "2022-11-06T14:03:27.602Z"
   },
   {
    "duration": 30,
    "start_time": "2022-11-06T14:03:27.624Z"
   },
   {
    "duration": 27,
    "start_time": "2022-11-06T14:03:27.656Z"
   },
   {
    "duration": 80,
    "start_time": "2022-11-06T14:03:39.645Z"
   },
   {
    "duration": 22,
    "start_time": "2022-11-06T14:11:38.969Z"
   },
   {
    "duration": 11,
    "start_time": "2022-11-06T14:12:17.981Z"
   },
   {
    "duration": 261,
    "start_time": "2022-11-06T14:13:37.680Z"
   },
   {
    "duration": 11,
    "start_time": "2022-11-06T14:14:58.808Z"
   },
   {
    "duration": 714,
    "start_time": "2022-11-06T14:15:07.491Z"
   },
   {
    "duration": 72,
    "start_time": "2022-11-06T14:15:08.207Z"
   },
   {
    "duration": 4,
    "start_time": "2022-11-06T14:15:08.283Z"
   },
   {
    "duration": 17,
    "start_time": "2022-11-06T14:15:08.289Z"
   },
   {
    "duration": 18,
    "start_time": "2022-11-06T14:15:08.308Z"
   },
   {
    "duration": 11,
    "start_time": "2022-11-06T14:15:08.328Z"
   },
   {
    "duration": 32,
    "start_time": "2022-11-06T14:15:08.341Z"
   },
   {
    "duration": 24,
    "start_time": "2022-11-06T14:15:08.374Z"
   },
   {
    "duration": 20,
    "start_time": "2022-11-06T14:15:08.399Z"
   },
   {
    "duration": 21,
    "start_time": "2022-11-06T14:15:08.420Z"
   },
   {
    "duration": 7,
    "start_time": "2022-11-06T14:15:08.442Z"
   },
   {
    "duration": 14,
    "start_time": "2022-11-06T14:15:08.450Z"
   },
   {
    "duration": 11,
    "start_time": "2022-11-06T14:15:08.466Z"
   },
   {
    "duration": 23,
    "start_time": "2022-11-06T14:15:08.478Z"
   },
   {
    "duration": 251,
    "start_time": "2022-11-06T14:15:08.502Z"
   },
   {
    "duration": 246,
    "start_time": "2022-11-06T14:15:08.754Z"
   },
   {
    "duration": 153,
    "start_time": "2022-11-06T14:16:29.766Z"
   },
   {
    "duration": 228,
    "start_time": "2022-11-06T14:18:01.309Z"
   },
   {
    "duration": 430,
    "start_time": "2022-11-06T14:18:11.607Z"
   },
   {
    "duration": 259,
    "start_time": "2022-11-06T14:19:10.836Z"
   },
   {
    "duration": 253,
    "start_time": "2022-11-06T14:20:56.244Z"
   },
   {
    "duration": 249,
    "start_time": "2022-11-06T14:21:05.776Z"
   },
   {
    "duration": 2,
    "start_time": "2022-11-06T14:23:53.322Z"
   },
   {
    "duration": 251,
    "start_time": "2022-11-06T14:23:58.675Z"
   },
   {
    "duration": 343,
    "start_time": "2022-11-06T14:27:19.677Z"
   },
   {
    "duration": 181,
    "start_time": "2022-11-06T14:27:28.001Z"
   },
   {
    "duration": 149,
    "start_time": "2022-11-06T15:02:25.378Z"
   },
   {
    "duration": 201,
    "start_time": "2022-11-06T15:02:41.199Z"
   },
   {
    "duration": 198,
    "start_time": "2022-11-06T15:14:18.344Z"
   },
   {
    "duration": 180,
    "start_time": "2022-11-06T15:14:56.899Z"
   },
   {
    "duration": 10,
    "start_time": "2022-11-06T15:19:46.668Z"
   },
   {
    "duration": 8,
    "start_time": "2022-11-06T15:21:00.274Z"
   },
   {
    "duration": 14,
    "start_time": "2022-11-06T15:21:59.520Z"
   },
   {
    "duration": 14,
    "start_time": "2022-11-06T15:22:33.212Z"
   },
   {
    "duration": 13,
    "start_time": "2022-11-06T15:22:55.630Z"
   },
   {
    "duration": 12,
    "start_time": "2022-11-06T15:23:09.867Z"
   },
   {
    "duration": 12,
    "start_time": "2022-11-06T15:23:27.426Z"
   },
   {
    "duration": 327,
    "start_time": "2022-11-06T15:32:17.661Z"
   },
   {
    "duration": 312,
    "start_time": "2022-11-06T15:34:25.104Z"
   },
   {
    "duration": 160,
    "start_time": "2022-11-06T15:47:22.070Z"
   },
   {
    "duration": 212,
    "start_time": "2022-11-06T15:48:14.720Z"
   },
   {
    "duration": 201,
    "start_time": "2022-11-06T16:00:27.732Z"
   },
   {
    "duration": 376,
    "start_time": "2022-11-06T16:06:29.638Z"
   },
   {
    "duration": 277,
    "start_time": "2022-11-06T16:06:43.135Z"
   },
   {
    "duration": 330,
    "start_time": "2022-11-06T16:12:19.991Z"
   },
   {
    "duration": 224,
    "start_time": "2022-11-06T16:14:32.660Z"
   },
   {
    "duration": 309,
    "start_time": "2022-11-06T16:14:54.255Z"
   },
   {
    "duration": 8,
    "start_time": "2022-11-06T16:32:59.594Z"
   },
   {
    "duration": 130,
    "start_time": "2022-11-06T16:33:50.898Z"
   },
   {
    "duration": 11,
    "start_time": "2022-11-06T16:34:25.965Z"
   },
   {
    "duration": 142,
    "start_time": "2022-11-06T16:35:10.669Z"
   },
   {
    "duration": 594,
    "start_time": "2022-11-06T16:36:11.793Z"
   },
   {
    "duration": 73,
    "start_time": "2022-11-06T16:36:12.389Z"
   },
   {
    "duration": 3,
    "start_time": "2022-11-06T16:36:12.463Z"
   },
   {
    "duration": 13,
    "start_time": "2022-11-06T16:36:12.468Z"
   },
   {
    "duration": 7,
    "start_time": "2022-11-06T16:36:12.483Z"
   },
   {
    "duration": 10,
    "start_time": "2022-11-06T16:36:12.491Z"
   },
   {
    "duration": 22,
    "start_time": "2022-11-06T16:36:12.503Z"
   },
   {
    "duration": 5,
    "start_time": "2022-11-06T16:36:12.527Z"
   },
   {
    "duration": 9,
    "start_time": "2022-11-06T16:36:12.533Z"
   },
   {
    "duration": 6,
    "start_time": "2022-11-06T16:36:12.544Z"
   },
   {
    "duration": 10,
    "start_time": "2022-11-06T16:36:12.552Z"
   },
   {
    "duration": 9,
    "start_time": "2022-11-06T16:36:12.563Z"
   },
   {
    "duration": 31,
    "start_time": "2022-11-06T16:36:12.573Z"
   },
   {
    "duration": 266,
    "start_time": "2022-11-06T16:36:12.607Z"
   },
   {
    "duration": 282,
    "start_time": "2022-11-06T16:36:12.874Z"
   },
   {
    "duration": 11,
    "start_time": "2022-11-06T16:36:13.157Z"
   },
   {
    "duration": 206,
    "start_time": "2022-11-06T16:36:13.170Z"
   },
   {
    "duration": 343,
    "start_time": "2022-11-06T16:36:13.378Z"
   },
   {
    "duration": 265,
    "start_time": "2022-11-06T16:36:13.723Z"
   },
   {
    "duration": 357,
    "start_time": "2022-11-06T16:36:13.991Z"
   },
   {
    "duration": 10,
    "start_time": "2022-11-06T16:36:14.350Z"
   },
   {
    "duration": 214,
    "start_time": "2022-11-06T16:36:14.362Z"
   },
   {
    "duration": 117,
    "start_time": "2022-11-06T16:36:43.879Z"
   },
   {
    "duration": 258,
    "start_time": "2022-11-06T16:37:41.296Z"
   },
   {
    "duration": 155,
    "start_time": "2022-11-06T16:38:38.273Z"
   },
   {
    "duration": 143,
    "start_time": "2022-11-06T16:38:50.716Z"
   },
   {
    "duration": 147,
    "start_time": "2022-11-06T16:38:54.755Z"
   },
   {
    "duration": 149,
    "start_time": "2022-11-06T16:40:44.225Z"
   },
   {
    "duration": 4,
    "start_time": "2022-11-06T16:52:03.565Z"
   },
   {
    "duration": 4,
    "start_time": "2022-11-06T16:52:09.867Z"
   },
   {
    "duration": 42,
    "start_time": "2022-11-06T16:54:28.728Z"
   },
   {
    "duration": 4,
    "start_time": "2022-11-06T16:54:31.562Z"
   },
   {
    "duration": 134,
    "start_time": "2022-11-06T16:59:07.067Z"
   },
   {
    "duration": 831,
    "start_time": "2022-11-06T16:59:22.367Z"
   },
   {
    "duration": 997,
    "start_time": "2022-11-06T17:01:03.084Z"
   },
   {
    "duration": 156,
    "start_time": "2022-11-06T17:01:19.793Z"
   },
   {
    "duration": 155,
    "start_time": "2022-11-06T17:29:59.851Z"
   },
   {
    "duration": 7,
    "start_time": "2022-11-06T17:32:03.055Z"
   },
   {
    "duration": 4,
    "start_time": "2022-11-06T17:32:18.967Z"
   },
   {
    "duration": 4,
    "start_time": "2022-11-06T17:32:28.053Z"
   },
   {
    "duration": 3,
    "start_time": "2022-11-06T17:32:45.201Z"
   },
   {
    "duration": 3,
    "start_time": "2022-11-06T17:35:13.042Z"
   },
   {
    "duration": 4,
    "start_time": "2022-11-06T17:35:14.620Z"
   },
   {
    "duration": 4,
    "start_time": "2022-11-06T17:35:22.244Z"
   },
   {
    "duration": 8,
    "start_time": "2022-11-06T17:36:24.042Z"
   },
   {
    "duration": 7,
    "start_time": "2022-11-06T17:36:42.678Z"
   },
   {
    "duration": 8,
    "start_time": "2022-11-06T17:38:27.141Z"
   },
   {
    "duration": 48,
    "start_time": "2022-11-06T17:38:47.211Z"
   },
   {
    "duration": 7,
    "start_time": "2022-11-06T17:38:51.302Z"
   },
   {
    "duration": 3,
    "start_time": "2022-11-06T17:39:16.341Z"
   },
   {
    "duration": 10,
    "start_time": "2022-11-06T17:39:21.160Z"
   },
   {
    "duration": 8,
    "start_time": "2022-11-06T17:39:25.048Z"
   },
   {
    "duration": 81,
    "start_time": "2022-11-06T18:56:18.737Z"
   },
   {
    "duration": 14,
    "start_time": "2022-11-06T18:56:19.575Z"
   },
   {
    "duration": 16,
    "start_time": "2022-11-06T18:57:24.896Z"
   },
   {
    "duration": 97,
    "start_time": "2022-11-06T18:58:19.470Z"
   },
   {
    "duration": 21,
    "start_time": "2022-11-06T18:58:52.042Z"
   },
   {
    "duration": 24,
    "start_time": "2022-11-06T18:58:57.955Z"
   },
   {
    "duration": 130,
    "start_time": "2022-11-06T19:27:41.013Z"
   },
   {
    "duration": 357,
    "start_time": "2022-11-06T19:28:28.035Z"
   },
   {
    "duration": 150,
    "start_time": "2022-11-06T19:28:32.263Z"
   },
   {
    "duration": 135,
    "start_time": "2022-11-06T19:31:00.470Z"
   },
   {
    "duration": 146,
    "start_time": "2022-11-06T19:42:27.198Z"
   },
   {
    "duration": 9,
    "start_time": "2022-11-06T20:21:37.276Z"
   },
   {
    "duration": 10,
    "start_time": "2022-11-06T20:24:23.962Z"
   },
   {
    "duration": 718,
    "start_time": "2022-11-06T20:37:06.600Z"
   },
   {
    "duration": 8,
    "start_time": "2022-11-06T20:37:28.035Z"
   },
   {
    "duration": 8,
    "start_time": "2022-11-06T20:37:36.889Z"
   },
   {
    "duration": 9,
    "start_time": "2022-11-06T20:38:29.716Z"
   },
   {
    "duration": 9,
    "start_time": "2022-11-06T20:38:39.563Z"
   },
   {
    "duration": 7,
    "start_time": "2022-11-06T20:38:54.252Z"
   },
   {
    "duration": 8,
    "start_time": "2022-11-06T20:39:35.199Z"
   },
   {
    "duration": 3,
    "start_time": "2022-11-06T20:39:41.320Z"
   },
   {
    "duration": 26,
    "start_time": "2022-11-06T20:41:24.258Z"
   },
   {
    "duration": 23,
    "start_time": "2022-11-06T20:46:10.777Z"
   },
   {
    "duration": 24,
    "start_time": "2022-11-06T20:48:39.970Z"
   },
   {
    "duration": 647,
    "start_time": "2022-11-06T20:52:56.704Z"
   },
   {
    "duration": 718,
    "start_time": "2022-11-06T20:53:13.620Z"
   },
   {
    "duration": 11,
    "start_time": "2022-11-06T20:53:21.038Z"
   },
   {
    "duration": 13,
    "start_time": "2022-11-06T20:54:18.562Z"
   },
   {
    "duration": 13,
    "start_time": "2022-11-06T20:54:22.412Z"
   },
   {
    "duration": 979,
    "start_time": "2022-11-06T21:13:12.258Z"
   },
   {
    "duration": 70,
    "start_time": "2022-11-06T21:13:13.239Z"
   },
   {
    "duration": 4,
    "start_time": "2022-11-06T21:13:13.311Z"
   },
   {
    "duration": 13,
    "start_time": "2022-11-06T21:13:13.317Z"
   },
   {
    "duration": 6,
    "start_time": "2022-11-06T21:13:13.332Z"
   },
   {
    "duration": 8,
    "start_time": "2022-11-06T21:13:13.339Z"
   },
   {
    "duration": 23,
    "start_time": "2022-11-06T21:13:13.348Z"
   },
   {
    "duration": 5,
    "start_time": "2022-11-06T21:13:13.373Z"
   },
   {
    "duration": 27,
    "start_time": "2022-11-06T21:13:13.379Z"
   },
   {
    "duration": 8,
    "start_time": "2022-11-06T21:13:13.409Z"
   },
   {
    "duration": 10,
    "start_time": "2022-11-06T21:13:13.419Z"
   },
   {
    "duration": 12,
    "start_time": "2022-11-06T21:13:13.430Z"
   },
   {
    "duration": 12,
    "start_time": "2022-11-06T21:13:13.444Z"
   },
   {
    "duration": 287,
    "start_time": "2022-11-06T21:13:13.457Z"
   },
   {
    "duration": 279,
    "start_time": "2022-11-06T21:13:13.746Z"
   },
   {
    "duration": 11,
    "start_time": "2022-11-06T21:13:14.027Z"
   },
   {
    "duration": 230,
    "start_time": "2022-11-06T21:13:14.039Z"
   },
   {
    "duration": 342,
    "start_time": "2022-11-06T21:13:14.271Z"
   },
   {
    "duration": 216,
    "start_time": "2022-11-06T21:13:14.614Z"
   },
   {
    "duration": 322,
    "start_time": "2022-11-06T21:13:14.831Z"
   },
   {
    "duration": 11,
    "start_time": "2022-11-06T21:13:15.154Z"
   },
   {
    "duration": 162,
    "start_time": "2022-11-06T21:13:15.166Z"
   },
   {
    "duration": 4,
    "start_time": "2022-11-06T21:13:15.329Z"
   },
   {
    "duration": 7,
    "start_time": "2022-11-06T21:13:15.335Z"
   },
   {
    "duration": 179,
    "start_time": "2022-11-06T21:13:15.344Z"
   },
   {
    "duration": 3,
    "start_time": "2022-11-06T21:13:15.525Z"
   },
   {
    "duration": 8,
    "start_time": "2022-11-06T21:13:15.530Z"
   },
   {
    "duration": 93,
    "start_time": "2022-11-06T21:13:15.541Z"
   },
   {
    "duration": 110,
    "start_time": "2022-11-06T21:13:15.635Z"
   },
   {
    "duration": 24,
    "start_time": "2022-11-06T21:13:15.746Z"
   },
   {
    "duration": 161,
    "start_time": "2022-11-06T21:13:15.772Z"
   },
   {
    "duration": 9,
    "start_time": "2022-11-06T21:13:15.935Z"
   },
   {
    "duration": 11,
    "start_time": "2022-11-06T21:13:15.945Z"
   },
   {
    "duration": 19,
    "start_time": "2022-11-06T21:13:15.958Z"
   },
   {
    "duration": 27,
    "start_time": "2022-11-06T21:13:15.978Z"
   },
   {
    "duration": 14,
    "start_time": "2022-11-06T21:13:16.007Z"
   },
   {
    "duration": 1214,
    "start_time": "2022-11-07T07:09:06.199Z"
   },
   {
    "duration": 241,
    "start_time": "2022-11-07T07:09:07.417Z"
   },
   {
    "duration": 4,
    "start_time": "2022-11-07T07:09:07.660Z"
   },
   {
    "duration": 17,
    "start_time": "2022-11-07T07:09:07.666Z"
   },
   {
    "duration": 14,
    "start_time": "2022-11-07T07:09:07.685Z"
   },
   {
    "duration": 9,
    "start_time": "2022-11-07T07:09:07.701Z"
   },
   {
    "duration": 31,
    "start_time": "2022-11-07T07:09:07.713Z"
   },
   {
    "duration": 6,
    "start_time": "2022-11-07T07:09:07.746Z"
   },
   {
    "duration": 13,
    "start_time": "2022-11-07T07:09:07.754Z"
   },
   {
    "duration": 11,
    "start_time": "2022-11-07T07:09:07.769Z"
   },
   {
    "duration": 9,
    "start_time": "2022-11-07T07:09:07.782Z"
   },
   {
    "duration": 15,
    "start_time": "2022-11-07T07:09:07.824Z"
   },
   {
    "duration": 14,
    "start_time": "2022-11-07T07:09:07.841Z"
   },
   {
    "duration": 334,
    "start_time": "2022-11-07T07:09:07.858Z"
   },
   {
    "duration": 347,
    "start_time": "2022-11-07T07:09:08.194Z"
   },
   {
    "duration": 12,
    "start_time": "2022-11-07T07:09:08.543Z"
   },
   {
    "duration": 255,
    "start_time": "2022-11-07T07:09:08.557Z"
   },
   {
    "duration": 355,
    "start_time": "2022-11-07T07:09:08.814Z"
   },
   {
    "duration": 262,
    "start_time": "2022-11-07T07:09:09.171Z"
   },
   {
    "duration": 362,
    "start_time": "2022-11-07T07:09:09.435Z"
   },
   {
    "duration": 12,
    "start_time": "2022-11-07T07:09:09.799Z"
   },
   {
    "duration": 181,
    "start_time": "2022-11-07T07:09:09.813Z"
   },
   {
    "duration": 4,
    "start_time": "2022-11-07T07:09:09.996Z"
   },
   {
    "duration": 6,
    "start_time": "2022-11-07T07:09:10.002Z"
   },
   {
    "duration": 196,
    "start_time": "2022-11-07T07:09:10.024Z"
   },
   {
    "duration": 5,
    "start_time": "2022-11-07T07:09:10.222Z"
   },
   {
    "duration": 5,
    "start_time": "2022-11-07T07:09:10.228Z"
   },
   {
    "duration": 139,
    "start_time": "2022-11-07T07:09:10.235Z"
   },
   {
    "duration": 127,
    "start_time": "2022-11-07T07:09:10.376Z"
   },
   {
    "duration": 50,
    "start_time": "2022-11-07T07:09:10.505Z"
   },
   {
    "duration": 197,
    "start_time": "2022-11-07T07:09:10.557Z"
   },
   {
    "duration": 14,
    "start_time": "2022-11-07T07:09:10.756Z"
   },
   {
    "duration": 10,
    "start_time": "2022-11-07T07:09:10.772Z"
   },
   {
    "duration": 9,
    "start_time": "2022-11-07T07:09:10.784Z"
   },
   {
    "duration": 57,
    "start_time": "2022-11-07T07:09:10.794Z"
   },
   {
    "duration": 15,
    "start_time": "2022-11-07T07:09:10.852Z"
   },
   {
    "duration": 8,
    "start_time": "2022-11-08T01:31:32.760Z"
   },
   {
    "duration": 1209,
    "start_time": "2022-11-08T01:31:42.275Z"
   },
   {
    "duration": 92,
    "start_time": "2022-11-08T01:32:12.430Z"
   },
   {
    "duration": 16,
    "start_time": "2022-11-08T01:32:42.063Z"
   },
   {
    "duration": 4,
    "start_time": "2022-11-08T01:33:08.207Z"
   },
   {
    "duration": 30,
    "start_time": "2022-11-08T01:33:10.142Z"
   },
   {
    "duration": 15,
    "start_time": "2022-11-08T01:33:10.309Z"
   },
   {
    "duration": 3,
    "start_time": "2022-11-08T01:38:49.597Z"
   },
   {
    "duration": 206,
    "start_time": "2022-11-08T01:38:49.602Z"
   },
   {
    "duration": 3,
    "start_time": "2022-11-08T01:38:49.809Z"
   },
   {
    "duration": 12,
    "start_time": "2022-11-08T01:38:49.814Z"
   },
   {
    "duration": 6,
    "start_time": "2022-11-08T01:38:49.828Z"
   },
   {
    "duration": 7,
    "start_time": "2022-11-08T01:38:49.836Z"
   },
   {
    "duration": 34,
    "start_time": "2022-11-08T01:38:49.845Z"
   },
   {
    "duration": 5,
    "start_time": "2022-11-08T01:38:49.880Z"
   },
   {
    "duration": 10,
    "start_time": "2022-11-08T01:38:49.887Z"
   },
   {
    "duration": 5,
    "start_time": "2022-11-08T01:38:49.898Z"
   },
   {
    "duration": 18,
    "start_time": "2022-11-08T01:38:49.904Z"
   },
   {
    "duration": 7,
    "start_time": "2022-11-08T01:38:49.923Z"
   },
   {
    "duration": 21,
    "start_time": "2022-11-08T01:38:49.931Z"
   },
   {
    "duration": 12,
    "start_time": "2022-11-08T01:38:49.955Z"
   },
   {
    "duration": 8,
    "start_time": "2022-11-08T01:38:54.632Z"
   },
   {
    "duration": 3,
    "start_time": "2022-11-08T01:38:59.864Z"
   },
   {
    "duration": 8,
    "start_time": "2022-11-08T01:39:03.124Z"
   },
   {
    "duration": 9,
    "start_time": "2022-11-08T01:39:10.798Z"
   },
   {
    "duration": 9,
    "start_time": "2022-11-08T01:41:43.865Z"
   },
   {
    "duration": 245,
    "start_time": "2022-11-08T01:58:21.475Z"
   },
   {
    "duration": 3,
    "start_time": "2022-11-08T01:58:28.136Z"
   },
   {
    "duration": 87,
    "start_time": "2022-11-08T01:58:28.153Z"
   },
   {
    "duration": 3,
    "start_time": "2022-11-08T01:58:28.242Z"
   },
   {
    "duration": 27,
    "start_time": "2022-11-08T01:58:28.246Z"
   },
   {
    "duration": 11,
    "start_time": "2022-11-08T01:58:28.274Z"
   },
   {
    "duration": 10,
    "start_time": "2022-11-08T01:58:28.286Z"
   },
   {
    "duration": 24,
    "start_time": "2022-11-08T01:58:28.297Z"
   },
   {
    "duration": 4,
    "start_time": "2022-11-08T01:58:28.323Z"
   },
   {
    "duration": 10,
    "start_time": "2022-11-08T01:58:28.329Z"
   },
   {
    "duration": 4,
    "start_time": "2022-11-08T01:58:28.340Z"
   },
   {
    "duration": 23,
    "start_time": "2022-11-08T01:58:28.360Z"
   },
   {
    "duration": 7,
    "start_time": "2022-11-08T01:58:28.385Z"
   },
   {
    "duration": 6,
    "start_time": "2022-11-08T01:58:28.393Z"
   },
   {
    "duration": 12,
    "start_time": "2022-11-08T01:58:28.400Z"
   },
   {
    "duration": 16,
    "start_time": "2022-11-08T01:58:28.413Z"
   },
   {
    "duration": 289,
    "start_time": "2022-11-08T01:58:28.430Z"
   },
   {
    "duration": 295,
    "start_time": "2022-11-08T01:58:28.720Z"
   },
   {
    "duration": 11,
    "start_time": "2022-11-08T01:58:29.016Z"
   },
   {
    "duration": 229,
    "start_time": "2022-11-08T01:58:29.029Z"
   },
   {
    "duration": 412,
    "start_time": "2022-11-08T01:58:29.260Z"
   },
   {
    "duration": 271,
    "start_time": "2022-11-08T01:58:29.673Z"
   },
   {
    "duration": 297,
    "start_time": "2022-11-08T01:58:33.400Z"
   },
   {
    "duration": 360,
    "start_time": "2022-11-08T01:58:45.061Z"
   },
   {
    "duration": 5,
    "start_time": "2022-11-08T02:04:57.269Z"
   },
   {
    "duration": 113,
    "start_time": "2022-11-08T02:04:57.277Z"
   },
   {
    "duration": 4,
    "start_time": "2022-11-08T02:04:57.391Z"
   },
   {
    "duration": 13,
    "start_time": "2022-11-08T02:04:57.397Z"
   },
   {
    "duration": 21,
    "start_time": "2022-11-08T02:04:57.412Z"
   },
   {
    "duration": 13,
    "start_time": "2022-11-08T02:04:57.434Z"
   },
   {
    "duration": 42,
    "start_time": "2022-11-08T02:04:57.458Z"
   },
   {
    "duration": 7,
    "start_time": "2022-11-08T02:04:57.502Z"
   },
   {
    "duration": 13,
    "start_time": "2022-11-08T02:04:57.511Z"
   },
   {
    "duration": 5,
    "start_time": "2022-11-08T02:04:57.525Z"
   },
   {
    "duration": 30,
    "start_time": "2022-11-08T02:04:57.532Z"
   },
   {
    "duration": 23,
    "start_time": "2022-11-08T02:04:57.564Z"
   },
   {
    "duration": 7,
    "start_time": "2022-11-08T02:04:57.590Z"
   },
   {
    "duration": 13,
    "start_time": "2022-11-08T02:04:57.598Z"
   },
   {
    "duration": 12,
    "start_time": "2022-11-08T02:04:57.613Z"
   },
   {
    "duration": 366,
    "start_time": "2022-11-08T02:04:57.627Z"
   },
   {
    "duration": 225,
    "start_time": "2022-11-08T02:04:57.994Z"
   },
   {
    "duration": 15,
    "start_time": "2022-11-08T02:04:58.222Z"
   },
   {
    "duration": 276,
    "start_time": "2022-11-08T02:04:58.250Z"
   },
   {
    "duration": 368,
    "start_time": "2022-11-08T02:04:58.528Z"
   },
   {
    "duration": 241,
    "start_time": "2022-11-08T02:04:58.898Z"
   },
   {
    "duration": 357,
    "start_time": "2022-11-08T02:04:59.141Z"
   },
   {
    "duration": 12,
    "start_time": "2022-11-08T02:04:59.500Z"
   },
   {
    "duration": 183,
    "start_time": "2022-11-08T02:04:59.514Z"
   },
   {
    "duration": 5,
    "start_time": "2022-11-08T02:04:59.699Z"
   },
   {
    "duration": 5,
    "start_time": "2022-11-08T02:04:59.706Z"
   },
   {
    "duration": 193,
    "start_time": "2022-11-08T02:04:59.712Z"
   },
   {
    "duration": 162,
    "start_time": "2022-11-08T02:05:02.453Z"
   },
   {
    "duration": 147,
    "start_time": "2022-11-08T02:05:53.389Z"
   },
   {
    "duration": 205,
    "start_time": "2022-11-08T02:06:30.998Z"
   },
   {
    "duration": 1324,
    "start_time": "2022-11-08T12:14:57.406Z"
   },
   {
    "duration": 225,
    "start_time": "2022-11-08T12:14:58.732Z"
   },
   {
    "duration": 3,
    "start_time": "2022-11-08T12:14:58.959Z"
   },
   {
    "duration": 15,
    "start_time": "2022-11-08T12:14:58.964Z"
   },
   {
    "duration": 12,
    "start_time": "2022-11-08T12:14:58.982Z"
   },
   {
    "duration": 11,
    "start_time": "2022-11-08T12:14:58.995Z"
   },
   {
    "duration": 43,
    "start_time": "2022-11-08T12:14:59.008Z"
   },
   {
    "duration": 5,
    "start_time": "2022-11-08T12:14:59.053Z"
   },
   {
    "duration": 12,
    "start_time": "2022-11-08T12:14:59.060Z"
   },
   {
    "duration": 4,
    "start_time": "2022-11-08T12:14:59.074Z"
   },
   {
    "duration": 25,
    "start_time": "2022-11-08T12:14:59.079Z"
   },
   {
    "duration": 24,
    "start_time": "2022-11-08T12:14:59.106Z"
   },
   {
    "duration": 10,
    "start_time": "2022-11-08T12:14:59.132Z"
   },
   {
    "duration": 11,
    "start_time": "2022-11-08T12:14:59.144Z"
   },
   {
    "duration": 10,
    "start_time": "2022-11-08T12:14:59.157Z"
   },
   {
    "duration": 13,
    "start_time": "2022-11-08T12:29:41.282Z"
   },
   {
    "duration": 14,
    "start_time": "2022-11-08T12:29:44.804Z"
   },
   {
    "duration": 19,
    "start_time": "2022-11-08T12:30:05.731Z"
   },
   {
    "duration": 8,
    "start_time": "2022-11-08T12:31:50.324Z"
   },
   {
    "duration": 6,
    "start_time": "2022-11-08T12:32:18.343Z"
   },
   {
    "duration": 50,
    "start_time": "2022-11-08T12:32:41.990Z"
   },
   {
    "duration": 5,
    "start_time": "2022-11-08T12:32:48.177Z"
   },
   {
    "duration": 5,
    "start_time": "2022-11-08T12:33:51.270Z"
   },
   {
    "duration": 133,
    "start_time": "2022-11-08T12:34:01.206Z"
   },
   {
    "duration": 108,
    "start_time": "2022-11-08T12:34:05.085Z"
   },
   {
    "duration": 8,
    "start_time": "2022-11-08T12:34:08.843Z"
   },
   {
    "duration": 4,
    "start_time": "2022-11-08T12:34:27.573Z"
   },
   {
    "duration": 4,
    "start_time": "2022-11-08T12:34:35.683Z"
   },
   {
    "duration": 14,
    "start_time": "2022-11-08T12:37:46.905Z"
   },
   {
    "duration": 6,
    "start_time": "2022-11-08T12:38:13.900Z"
   },
   {
    "duration": 3,
    "start_time": "2022-11-08T12:38:54.671Z"
   },
   {
    "duration": 7,
    "start_time": "2022-11-08T12:38:56.776Z"
   },
   {
    "duration": 4,
    "start_time": "2022-11-08T12:39:25.774Z"
   },
   {
    "duration": 6,
    "start_time": "2022-11-08T12:39:51.461Z"
   },
   {
    "duration": 61,
    "start_time": "2022-11-08T23:06:41.200Z"
   },
   {
    "duration": 1216,
    "start_time": "2022-11-08T23:06:47.866Z"
   },
   {
    "duration": 212,
    "start_time": "2022-11-08T23:06:49.084Z"
   },
   {
    "duration": 5,
    "start_time": "2022-11-08T23:06:49.298Z"
   },
   {
    "duration": 25,
    "start_time": "2022-11-08T23:06:49.305Z"
   },
   {
    "duration": 19,
    "start_time": "2022-11-08T23:06:49.332Z"
   },
   {
    "duration": 15,
    "start_time": "2022-11-08T23:06:49.353Z"
   },
   {
    "duration": 29,
    "start_time": "2022-11-08T23:06:49.369Z"
   },
   {
    "duration": 5,
    "start_time": "2022-11-08T23:06:49.400Z"
   },
   {
    "duration": 16,
    "start_time": "2022-11-08T23:06:49.407Z"
   },
   {
    "duration": 6,
    "start_time": "2022-11-08T23:06:49.426Z"
   },
   {
    "duration": 26,
    "start_time": "2022-11-08T23:06:49.434Z"
   },
   {
    "duration": 8,
    "start_time": "2022-11-08T23:06:49.462Z"
   },
   {
    "duration": 15,
    "start_time": "2022-11-08T23:06:49.472Z"
   },
   {
    "duration": 11,
    "start_time": "2022-11-08T23:06:49.489Z"
   },
   {
    "duration": 11,
    "start_time": "2022-11-08T23:06:49.502Z"
   },
   {
    "duration": 6,
    "start_time": "2022-11-08T23:06:49.515Z"
   },
   {
    "duration": 25,
    "start_time": "2022-11-08T23:06:49.523Z"
   },
   {
    "duration": 7,
    "start_time": "2022-11-08T23:06:49.550Z"
   },
   {
    "duration": 17,
    "start_time": "2022-11-08T23:06:49.558Z"
   },
   {
    "duration": 5,
    "start_time": "2022-11-08T23:06:52.800Z"
   },
   {
    "duration": 5,
    "start_time": "2022-11-08T23:06:53.286Z"
   },
   {
    "duration": 4,
    "start_time": "2022-11-08T23:07:05.920Z"
   },
   {
    "duration": 4,
    "start_time": "2022-11-08T23:07:12.041Z"
   },
   {
    "duration": 4,
    "start_time": "2022-11-08T23:10:35.240Z"
   },
   {
    "duration": 117,
    "start_time": "2022-11-08T23:10:35.246Z"
   },
   {
    "duration": 3,
    "start_time": "2022-11-08T23:10:35.364Z"
   },
   {
    "duration": 26,
    "start_time": "2022-11-08T23:10:35.369Z"
   },
   {
    "duration": 15,
    "start_time": "2022-11-08T23:10:35.396Z"
   },
   {
    "duration": 10,
    "start_time": "2022-11-08T23:10:35.413Z"
   },
   {
    "duration": 27,
    "start_time": "2022-11-08T23:10:35.424Z"
   },
   {
    "duration": 6,
    "start_time": "2022-11-08T23:10:35.453Z"
   },
   {
    "duration": 12,
    "start_time": "2022-11-08T23:10:35.462Z"
   },
   {
    "duration": 5,
    "start_time": "2022-11-08T23:10:35.475Z"
   },
   {
    "duration": 28,
    "start_time": "2022-11-08T23:10:35.481Z"
   },
   {
    "duration": 15,
    "start_time": "2022-11-08T23:10:35.510Z"
   },
   {
    "duration": 21,
    "start_time": "2022-11-08T23:10:35.527Z"
   },
   {
    "duration": 9,
    "start_time": "2022-11-08T23:10:35.550Z"
   },
   {
    "duration": 16,
    "start_time": "2022-11-08T23:10:35.561Z"
   },
   {
    "duration": 9,
    "start_time": "2022-11-08T23:10:35.578Z"
   },
   {
    "duration": 8,
    "start_time": "2022-11-08T23:10:35.589Z"
   },
   {
    "duration": 13,
    "start_time": "2022-11-08T23:10:35.598Z"
   },
   {
    "duration": 10,
    "start_time": "2022-11-08T23:10:35.612Z"
   },
   {
    "duration": 7,
    "start_time": "2022-11-08T23:10:37.058Z"
   },
   {
    "duration": 4,
    "start_time": "2022-11-08T23:10:37.571Z"
   },
   {
    "duration": 3,
    "start_time": "2022-11-08T23:12:47.746Z"
   },
   {
    "duration": 80,
    "start_time": "2022-11-08T23:12:47.752Z"
   },
   {
    "duration": 4,
    "start_time": "2022-11-08T23:12:47.834Z"
   },
   {
    "duration": 11,
    "start_time": "2022-11-08T23:12:47.841Z"
   },
   {
    "duration": 12,
    "start_time": "2022-11-08T23:12:47.854Z"
   },
   {
    "duration": 13,
    "start_time": "2022-11-08T23:12:47.868Z"
   },
   {
    "duration": 24,
    "start_time": "2022-11-08T23:12:47.882Z"
   },
   {
    "duration": 6,
    "start_time": "2022-11-08T23:12:47.907Z"
   },
   {
    "duration": 14,
    "start_time": "2022-11-08T23:12:47.916Z"
   },
   {
    "duration": 4,
    "start_time": "2022-11-08T23:12:47.948Z"
   },
   {
    "duration": 21,
    "start_time": "2022-11-08T23:12:47.954Z"
   },
   {
    "duration": 7,
    "start_time": "2022-11-08T23:12:47.977Z"
   },
   {
    "duration": 6,
    "start_time": "2022-11-08T23:12:47.985Z"
   },
   {
    "duration": 11,
    "start_time": "2022-11-08T23:12:47.992Z"
   },
   {
    "duration": 10,
    "start_time": "2022-11-08T23:12:48.004Z"
   },
   {
    "duration": 32,
    "start_time": "2022-11-08T23:12:48.016Z"
   },
   {
    "duration": 13,
    "start_time": "2022-11-08T23:12:48.049Z"
   },
   {
    "duration": 9,
    "start_time": "2022-11-08T23:12:48.064Z"
   },
   {
    "duration": 8,
    "start_time": "2022-11-08T23:12:48.074Z"
   },
   {
    "duration": 6,
    "start_time": "2022-11-08T23:12:48.084Z"
   },
   {
    "duration": 280,
    "start_time": "2022-11-08T23:12:48.092Z"
   },
   {
    "duration": 291,
    "start_time": "2022-11-08T23:12:48.374Z"
   },
   {
    "duration": 11,
    "start_time": "2022-11-08T23:12:48.666Z"
   },
   {
    "duration": 221,
    "start_time": "2022-11-08T23:12:48.680Z"
   },
   {
    "duration": 416,
    "start_time": "2022-11-08T23:12:48.902Z"
   },
   {
    "duration": 276,
    "start_time": "2022-11-08T23:12:49.320Z"
   },
   {
    "duration": 335,
    "start_time": "2022-11-08T23:12:49.597Z"
   },
   {
    "duration": 21,
    "start_time": "2022-11-08T23:12:49.934Z"
   },
   {
    "duration": 163,
    "start_time": "2022-11-08T23:12:49.957Z"
   },
   {
    "duration": 4,
    "start_time": "2022-11-08T23:12:50.122Z"
   },
   {
    "duration": 20,
    "start_time": "2022-11-08T23:12:50.128Z"
   },
   {
    "duration": 221,
    "start_time": "2022-11-08T23:12:50.150Z"
   },
   {
    "duration": 203,
    "start_time": "2022-11-08T23:12:53.764Z"
   },
   {
    "duration": 3,
    "start_time": "2022-11-08T23:26:35.859Z"
   },
   {
    "duration": 75,
    "start_time": "2022-11-08T23:26:35.864Z"
   },
   {
    "duration": 3,
    "start_time": "2022-11-08T23:26:35.941Z"
   },
   {
    "duration": 11,
    "start_time": "2022-11-08T23:26:35.945Z"
   },
   {
    "duration": 10,
    "start_time": "2022-11-08T23:26:35.958Z"
   },
   {
    "duration": 10,
    "start_time": "2022-11-08T23:26:35.969Z"
   },
   {
    "duration": 88,
    "start_time": "2022-11-08T23:26:35.980Z"
   },
   {
    "duration": 5,
    "start_time": "2022-11-08T23:26:36.069Z"
   },
   {
    "duration": 10,
    "start_time": "2022-11-08T23:26:36.075Z"
   },
   {
    "duration": 8,
    "start_time": "2022-11-08T23:26:36.086Z"
   },
   {
    "duration": 17,
    "start_time": "2022-11-08T23:26:36.095Z"
   },
   {
    "duration": 6,
    "start_time": "2022-11-08T23:26:36.113Z"
   },
   {
    "duration": 7,
    "start_time": "2022-11-08T23:26:36.121Z"
   },
   {
    "duration": 8,
    "start_time": "2022-11-08T23:26:36.151Z"
   },
   {
    "duration": 10,
    "start_time": "2022-11-08T23:26:36.161Z"
   },
   {
    "duration": 4,
    "start_time": "2022-11-08T23:26:36.173Z"
   },
   {
    "duration": 7,
    "start_time": "2022-11-08T23:26:36.179Z"
   },
   {
    "duration": 11,
    "start_time": "2022-11-08T23:26:36.187Z"
   },
   {
    "duration": 8,
    "start_time": "2022-11-08T23:26:36.199Z"
   },
   {
    "duration": 6,
    "start_time": "2022-11-08T23:26:36.208Z"
   },
   {
    "duration": 290,
    "start_time": "2022-11-08T23:26:36.215Z"
   },
   {
    "duration": 207,
    "start_time": "2022-11-08T23:26:36.507Z"
   },
   {
    "duration": 10,
    "start_time": "2022-11-08T23:26:36.716Z"
   },
   {
    "duration": 211,
    "start_time": "2022-11-08T23:26:36.727Z"
   },
   {
    "duration": 332,
    "start_time": "2022-11-08T23:26:36.939Z"
   },
   {
    "duration": 225,
    "start_time": "2022-11-08T23:26:37.272Z"
   },
   {
    "duration": 301,
    "start_time": "2022-11-08T23:26:37.498Z"
   },
   {
    "duration": 11,
    "start_time": "2022-11-08T23:26:37.801Z"
   },
   {
    "duration": 157,
    "start_time": "2022-11-08T23:26:37.814Z"
   },
   {
    "duration": 5,
    "start_time": "2022-11-08T23:26:37.972Z"
   },
   {
    "duration": 8,
    "start_time": "2022-11-08T23:26:37.978Z"
   },
   {
    "duration": 187,
    "start_time": "2022-11-08T23:26:37.987Z"
   },
   {
    "duration": 167,
    "start_time": "2022-11-08T23:26:38.176Z"
   },
   {
    "duration": 4,
    "start_time": "2022-11-08T23:26:38.348Z"
   },
   {
    "duration": 8,
    "start_time": "2022-11-08T23:26:38.354Z"
   },
   {
    "duration": 92,
    "start_time": "2022-11-08T23:26:38.363Z"
   },
   {
    "duration": 103,
    "start_time": "2022-11-08T23:26:38.456Z"
   },
   {
    "duration": 26,
    "start_time": "2022-11-08T23:26:38.560Z"
   },
   {
    "duration": 167,
    "start_time": "2022-11-08T23:26:38.588Z"
   },
   {
    "duration": 10,
    "start_time": "2022-11-08T23:26:38.757Z"
   },
   {
    "duration": 10,
    "start_time": "2022-11-08T23:26:46.013Z"
   },
   {
    "duration": 4,
    "start_time": "2022-11-08T23:26:47.489Z"
   },
   {
    "duration": 27,
    "start_time": "2022-11-08T23:27:03.363Z"
   },
   {
    "duration": 14,
    "start_time": "2022-11-08T23:27:29.287Z"
   },
   {
    "duration": 1068,
    "start_time": "2022-11-08T23:35:51.416Z"
   },
   {
    "duration": 66,
    "start_time": "2022-11-08T23:35:52.486Z"
   },
   {
    "duration": 5,
    "start_time": "2022-11-08T23:35:52.554Z"
   },
   {
    "duration": 14,
    "start_time": "2022-11-08T23:35:52.560Z"
   },
   {
    "duration": 12,
    "start_time": "2022-11-08T23:35:52.576Z"
   },
   {
    "duration": 8,
    "start_time": "2022-11-08T23:35:52.590Z"
   },
   {
    "duration": 23,
    "start_time": "2022-11-08T23:35:52.599Z"
   },
   {
    "duration": 5,
    "start_time": "2022-11-08T23:35:52.623Z"
   },
   {
    "duration": 22,
    "start_time": "2022-11-08T23:35:52.630Z"
   },
   {
    "duration": 4,
    "start_time": "2022-11-08T23:35:52.655Z"
   },
   {
    "duration": 24,
    "start_time": "2022-11-08T23:35:52.660Z"
   },
   {
    "duration": 8,
    "start_time": "2022-11-08T23:35:52.685Z"
   },
   {
    "duration": 12,
    "start_time": "2022-11-08T23:35:52.694Z"
   },
   {
    "duration": 14,
    "start_time": "2022-11-08T23:35:52.707Z"
   },
   {
    "duration": 29,
    "start_time": "2022-11-08T23:35:52.722Z"
   },
   {
    "duration": 8,
    "start_time": "2022-11-08T23:35:52.752Z"
   },
   {
    "duration": 6,
    "start_time": "2022-11-08T23:35:52.761Z"
   },
   {
    "duration": 7,
    "start_time": "2022-11-08T23:35:52.769Z"
   },
   {
    "duration": 6,
    "start_time": "2022-11-08T23:35:52.778Z"
   },
   {
    "duration": 6,
    "start_time": "2022-11-08T23:35:52.785Z"
   },
   {
    "duration": 298,
    "start_time": "2022-11-08T23:35:52.792Z"
   },
   {
    "duration": 305,
    "start_time": "2022-11-08T23:35:53.092Z"
   },
   {
    "duration": 11,
    "start_time": "2022-11-08T23:35:53.398Z"
   },
   {
    "duration": 198,
    "start_time": "2022-11-08T23:35:53.411Z"
   },
   {
    "duration": 326,
    "start_time": "2022-11-08T23:35:53.611Z"
   },
   {
    "duration": 219,
    "start_time": "2022-11-08T23:35:53.938Z"
   },
   {
    "duration": 339,
    "start_time": "2022-11-08T23:35:54.158Z"
   },
   {
    "duration": 11,
    "start_time": "2022-11-08T23:35:54.500Z"
   },
   {
    "duration": 149,
    "start_time": "2022-11-08T23:35:54.512Z"
   },
   {
    "duration": 5,
    "start_time": "2022-11-08T23:35:54.663Z"
   },
   {
    "duration": 7,
    "start_time": "2022-11-08T23:35:54.670Z"
   },
   {
    "duration": 162,
    "start_time": "2022-11-08T23:35:54.678Z"
   },
   {
    "duration": 186,
    "start_time": "2022-11-08T23:35:54.841Z"
   },
   {
    "duration": 4,
    "start_time": "2022-11-08T23:35:55.030Z"
   },
   {
    "duration": 8,
    "start_time": "2022-11-08T23:35:55.035Z"
   },
   {
    "duration": 165,
    "start_time": "2022-11-08T23:35:55.045Z"
   },
   {
    "duration": 141,
    "start_time": "2022-11-08T23:35:55.212Z"
   },
   {
    "duration": 28,
    "start_time": "2022-11-08T23:35:55.355Z"
   },
   {
    "duration": 165,
    "start_time": "2022-11-08T23:35:55.384Z"
   },
   {
    "duration": 9,
    "start_time": "2022-11-08T23:35:55.551Z"
   },
   {
    "duration": 25,
    "start_time": "2022-11-08T23:35:55.562Z"
   },
   {
    "duration": 21,
    "start_time": "2022-11-08T23:35:55.588Z"
   },
   {
    "duration": 30,
    "start_time": "2022-11-08T23:35:55.610Z"
   },
   {
    "duration": 13,
    "start_time": "2022-11-08T23:35:55.642Z"
   },
   {
    "duration": 1274,
    "start_time": "2022-11-09T19:27:12.527Z"
   },
   {
    "duration": 204,
    "start_time": "2022-11-09T19:27:13.803Z"
   },
   {
    "duration": 6,
    "start_time": "2022-11-09T19:27:14.009Z"
   },
   {
    "duration": 15,
    "start_time": "2022-11-09T19:27:14.018Z"
   },
   {
    "duration": 12,
    "start_time": "2022-11-09T19:27:14.034Z"
   },
   {
    "duration": 13,
    "start_time": "2022-11-09T19:27:14.048Z"
   },
   {
    "duration": 26,
    "start_time": "2022-11-09T19:27:14.062Z"
   },
   {
    "duration": 6,
    "start_time": "2022-11-09T19:27:14.089Z"
   },
   {
    "duration": 14,
    "start_time": "2022-11-09T19:27:14.097Z"
   },
   {
    "duration": 5,
    "start_time": "2022-11-09T19:27:14.132Z"
   },
   {
    "duration": 26,
    "start_time": "2022-11-09T19:27:14.139Z"
   },
   {
    "duration": 7,
    "start_time": "2022-11-09T19:27:14.167Z"
   },
   {
    "duration": 9,
    "start_time": "2022-11-09T19:27:14.175Z"
   },
   {
    "duration": 10,
    "start_time": "2022-11-09T19:27:14.185Z"
   },
   {
    "duration": 13,
    "start_time": "2022-11-09T19:27:14.197Z"
   },
   {
    "duration": 4,
    "start_time": "2022-11-09T19:27:14.232Z"
   },
   {
    "duration": 6,
    "start_time": "2022-11-09T19:27:14.238Z"
   },
   {
    "duration": 7,
    "start_time": "2022-11-09T19:27:14.246Z"
   },
   {
    "duration": 12,
    "start_time": "2022-11-09T19:27:22.498Z"
   },
   {
    "duration": 9,
    "start_time": "2022-11-09T19:27:53.477Z"
   }
  ],
  "kernelspec": {
   "display_name": "Python 3 (ipykernel)",
   "language": "python",
   "name": "python3"
  },
  "language_info": {
   "codemirror_mode": {
    "name": "ipython",
    "version": 3
   },
   "file_extension": ".py",
   "mimetype": "text/x-python",
   "name": "python",
   "nbconvert_exporter": "python",
   "pygments_lexer": "ipython3",
   "version": "3.9.5"
  },
  "toc": {
   "base_numbering": 1,
   "nav_menu": {
    "height": "355px",
    "width": "503px"
   },
   "number_sections": false,
   "sideBar": true,
   "skip_h1_title": false,
   "title_cell": "Table of Contents",
   "title_sidebar": "Contents",
   "toc_cell": false,
   "toc_position": {},
   "toc_section_display": true,
   "toc_window_display": true
  }
 },
 "nbformat": 4,
 "nbformat_minor": 2
}
